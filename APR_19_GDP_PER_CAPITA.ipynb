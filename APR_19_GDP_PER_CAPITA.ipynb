{
 "cells": [
  {
   "cell_type": "code",
   "execution_count": 42,
   "metadata": {},
   "outputs": [],
   "source": [
    "import pandas as pd\n",
    "import numpy as np\n",
    "import seaborn as sns\n",
    "import matplotlib.pyplot as plt\n",
    "%matplotlib inline"
   ]
  },
  {
   "cell_type": "code",
   "execution_count": 43,
   "metadata": {},
   "outputs": [
    {
     "data": {
      "text/html": [
       "<div>\n",
       "<style scoped>\n",
       "    .dataframe tbody tr th:only-of-type {\n",
       "        vertical-align: middle;\n",
       "    }\n",
       "\n",
       "    .dataframe tbody tr th {\n",
       "        vertical-align: top;\n",
       "    }\n",
       "\n",
       "    .dataframe thead th {\n",
       "        text-align: right;\n",
       "    }\n",
       "</style>\n",
       "<table border=\"1\" class=\"dataframe\">\n",
       "  <thead>\n",
       "    <tr style=\"text-align: right;\">\n",
       "      <th></th>\n",
       "      <th>Unnamed: 0</th>\n",
       "      <th>Country/Territory</th>\n",
       "      <th>GDP per Capita (USD)</th>\n",
       "      <th>Log GDP</th>\n",
       "      <th>Index of Economic Freedom Score</th>\n",
       "      <th>Democracy Index Score</th>\n",
       "      <th>Unemployment Rate (%)</th>\n",
       "      <th>Expenditure on Education (% of GDP)</th>\n",
       "      <th>Tariff Rate: Weighted Mean, All Products (%)</th>\n",
       "      <th>Area (km2)</th>\n",
       "      <th>...</th>\n",
       "      <th>Proven Oil per km2 (MMbbl)</th>\n",
       "      <th>Proven Oil per Capita (MMbbl)</th>\n",
       "      <th>Both Sexes Life Expectancy</th>\n",
       "      <th>Female Life Expectancy</th>\n",
       "      <th>Male Life Expectancy</th>\n",
       "      <th>Both Sexes Life Expectancy (HALE)</th>\n",
       "      <th>Landlocked</th>\n",
       "      <th>Free</th>\n",
       "      <th>Partly Free</th>\n",
       "      <th>Not Free</th>\n",
       "    </tr>\n",
       "  </thead>\n",
       "  <tbody>\n",
       "    <tr>\n",
       "      <th>0</th>\n",
       "      <td>0</td>\n",
       "      <td>Afghanistan</td>\n",
       "      <td>2017.0</td>\n",
       "      <td>7.609367</td>\n",
       "      <td>51.1</td>\n",
       "      <td>2.97</td>\n",
       "      <td>23.9</td>\n",
       "      <td>3.1</td>\n",
       "      <td>7.02</td>\n",
       "      <td>645807.0</td>\n",
       "      <td>...</td>\n",
       "      <td>0.000000</td>\n",
       "      <td>0.000000</td>\n",
       "      <td>60.5</td>\n",
       "      <td>61.9</td>\n",
       "      <td>59.3</td>\n",
       "      <td>52.2</td>\n",
       "      <td>1.0</td>\n",
       "      <td>0.0</td>\n",
       "      <td>0.0</td>\n",
       "      <td>1.0</td>\n",
       "    </tr>\n",
       "    <tr>\n",
       "      <th>1</th>\n",
       "      <td>1</td>\n",
       "      <td>Albania</td>\n",
       "      <td>13345.0</td>\n",
       "      <td>9.498897</td>\n",
       "      <td>64.5</td>\n",
       "      <td>5.98</td>\n",
       "      <td>12.5</td>\n",
       "      <td>3.5</td>\n",
       "      <td>0.85</td>\n",
       "      <td>28703.0</td>\n",
       "      <td>...</td>\n",
       "      <td>0.005853</td>\n",
       "      <td>0.000059</td>\n",
       "      <td>77.8</td>\n",
       "      <td>80.7</td>\n",
       "      <td>75.1</td>\n",
       "      <td>68.8</td>\n",
       "      <td>0.0</td>\n",
       "      <td>0.0</td>\n",
       "      <td>1.0</td>\n",
       "      <td>0.0</td>\n",
       "    </tr>\n",
       "    <tr>\n",
       "      <th>2</th>\n",
       "      <td>2</td>\n",
       "      <td>Algeria</td>\n",
       "      <td>15440.0</td>\n",
       "      <td>9.644717</td>\n",
       "      <td>44.7</td>\n",
       "      <td>3.50</td>\n",
       "      <td>11.2</td>\n",
       "      <td>4.3</td>\n",
       "      <td>8.85</td>\n",
       "      <td>2381741.0</td>\n",
       "      <td>...</td>\n",
       "      <td>0.005122</td>\n",
       "      <td>0.000287</td>\n",
       "      <td>75.6</td>\n",
       "      <td>77.5</td>\n",
       "      <td>73.8</td>\n",
       "      <td>66.0</td>\n",
       "      <td>0.0</td>\n",
       "      <td>0.0</td>\n",
       "      <td>0.0</td>\n",
       "      <td>1.0</td>\n",
       "    </tr>\n",
       "    <tr>\n",
       "      <th>3</th>\n",
       "      <td>3</td>\n",
       "      <td>Angola</td>\n",
       "      <td>6814.0</td>\n",
       "      <td>8.826735</td>\n",
       "      <td>48.6</td>\n",
       "      <td>3.62</td>\n",
       "      <td>NaN</td>\n",
       "      <td>3.5</td>\n",
       "      <td>9.38</td>\n",
       "      <td>1246700.0</td>\n",
       "      <td>...</td>\n",
       "      <td>0.006636</td>\n",
       "      <td>0.000283</td>\n",
       "      <td>52.4</td>\n",
       "      <td>54.0</td>\n",
       "      <td>50.9</td>\n",
       "      <td>45.8</td>\n",
       "      <td>0.0</td>\n",
       "      <td>0.0</td>\n",
       "      <td>0.0</td>\n",
       "      <td>1.0</td>\n",
       "    </tr>\n",
       "    <tr>\n",
       "      <th>4</th>\n",
       "      <td>4</td>\n",
       "      <td>Antigua and Barbuda</td>\n",
       "      <td>27981.0</td>\n",
       "      <td>10.239281</td>\n",
       "      <td>NaN</td>\n",
       "      <td>NaN</td>\n",
       "      <td>11.0</td>\n",
       "      <td>2.5</td>\n",
       "      <td>11.88</td>\n",
       "      <td>442.0</td>\n",
       "      <td>...</td>\n",
       "      <td>NaN</td>\n",
       "      <td>NaN</td>\n",
       "      <td>76.4</td>\n",
       "      <td>78.6</td>\n",
       "      <td>74.1</td>\n",
       "      <td>67.5</td>\n",
       "      <td>0.0</td>\n",
       "      <td>1.0</td>\n",
       "      <td>0.0</td>\n",
       "      <td>0.0</td>\n",
       "    </tr>\n",
       "  </tbody>\n",
       "</table>\n",
       "<p>5 rows × 23 columns</p>\n",
       "</div>"
      ],
      "text/plain": [
       "   Unnamed: 0    Country/Territory  GDP per Capita (USD)    Log GDP  \\\n",
       "0           0          Afghanistan                2017.0   7.609367   \n",
       "1           1              Albania               13345.0   9.498897   \n",
       "2           2              Algeria               15440.0   9.644717   \n",
       "3           3               Angola                6814.0   8.826735   \n",
       "4           4  Antigua and Barbuda               27981.0  10.239281   \n",
       "\n",
       "   Index of Economic Freedom Score  Democracy Index Score  \\\n",
       "0                             51.1                   2.97   \n",
       "1                             64.5                   5.98   \n",
       "2                             44.7                   3.50   \n",
       "3                             48.6                   3.62   \n",
       "4                              NaN                    NaN   \n",
       "\n",
       "   Unemployment Rate (%)  Expenditure on Education (% of GDP)  \\\n",
       "0                   23.9                                  3.1   \n",
       "1                   12.5                                  3.5   \n",
       "2                   11.2                                  4.3   \n",
       "3                    NaN                                  3.5   \n",
       "4                   11.0                                  2.5   \n",
       "\n",
       "   Tariff Rate: Weighted Mean, All Products (%)  Area (km2)    ...     \\\n",
       "0                                          7.02    645807.0    ...      \n",
       "1                                          0.85     28703.0    ...      \n",
       "2                                          8.85   2381741.0    ...      \n",
       "3                                          9.38   1246700.0    ...      \n",
       "4                                         11.88       442.0    ...      \n",
       "\n",
       "   Proven Oil per km2 (MMbbl)  Proven Oil per Capita (MMbbl)  \\\n",
       "0                    0.000000                       0.000000   \n",
       "1                    0.005853                       0.000059   \n",
       "2                    0.005122                       0.000287   \n",
       "3                    0.006636                       0.000283   \n",
       "4                         NaN                            NaN   \n",
       "\n",
       "   Both Sexes Life Expectancy  Female Life Expectancy  Male Life Expectancy  \\\n",
       "0                        60.5                    61.9                  59.3   \n",
       "1                        77.8                    80.7                  75.1   \n",
       "2                        75.6                    77.5                  73.8   \n",
       "3                        52.4                    54.0                  50.9   \n",
       "4                        76.4                    78.6                  74.1   \n",
       "\n",
       "   Both Sexes Life Expectancy (HALE)  Landlocked  Free  Partly Free  Not Free  \n",
       "0                               52.2         1.0   0.0          0.0       1.0  \n",
       "1                               68.8         0.0   0.0          1.0       0.0  \n",
       "2                               66.0         0.0   0.0          0.0       1.0  \n",
       "3                               45.8         0.0   0.0          0.0       1.0  \n",
       "4                               67.5         0.0   1.0          0.0       0.0  \n",
       "\n",
       "[5 rows x 23 columns]"
      ]
     },
     "execution_count": 43,
     "metadata": {},
     "output_type": "execute_result"
    }
   ],
   "source": [
    "GDP = pd.read_csv('GDP.csv')\n",
    "GDP.head()"
   ]
  },
  {
   "cell_type": "code",
   "execution_count": 44,
   "metadata": {},
   "outputs": [
    {
     "name": "stdout",
     "output_type": "stream",
     "text": [
      "191\n"
     ]
    },
    {
     "data": {
      "text/html": [
       "<div>\n",
       "<style scoped>\n",
       "    .dataframe tbody tr th:only-of-type {\n",
       "        vertical-align: middle;\n",
       "    }\n",
       "\n",
       "    .dataframe tbody tr th {\n",
       "        vertical-align: top;\n",
       "    }\n",
       "\n",
       "    .dataframe thead th {\n",
       "        text-align: right;\n",
       "    }\n",
       "</style>\n",
       "<table border=\"1\" class=\"dataframe\">\n",
       "  <thead>\n",
       "    <tr style=\"text-align: right;\">\n",
       "      <th></th>\n",
       "      <th>Country/Territory</th>\n",
       "      <th>GDP per Capita (USD)</th>\n",
       "      <th>Log GDP</th>\n",
       "      <th>Index of Economic Freedom Score</th>\n",
       "      <th>Democracy Index Score</th>\n",
       "      <th>Unemployment Rate (%)</th>\n",
       "      <th>Expenditure on Education (% of GDP)</th>\n",
       "      <th>Tariff Rate: Weighted Mean, All Products (%)</th>\n",
       "      <th>Area (km2)</th>\n",
       "      <th>Population</th>\n",
       "      <th>...</th>\n",
       "      <th>Proven Oil per km2 (MMbbl)</th>\n",
       "      <th>Proven Oil per Capita (MMbbl)</th>\n",
       "      <th>Both Sexes Life Expectancy</th>\n",
       "      <th>Female Life Expectancy</th>\n",
       "      <th>Male Life Expectancy</th>\n",
       "      <th>Both Sexes Life Expectancy (HALE)</th>\n",
       "      <th>Landlocked</th>\n",
       "      <th>Free</th>\n",
       "      <th>Partly Free</th>\n",
       "      <th>Not Free</th>\n",
       "    </tr>\n",
       "  </thead>\n",
       "  <tbody>\n",
       "    <tr>\n",
       "      <th>0</th>\n",
       "      <td>Afghanistan</td>\n",
       "      <td>2017.0</td>\n",
       "      <td>7.609367</td>\n",
       "      <td>51.1</td>\n",
       "      <td>2.97</td>\n",
       "      <td>23.9</td>\n",
       "      <td>3.1</td>\n",
       "      <td>7.02</td>\n",
       "      <td>645807.0</td>\n",
       "      <td>31575018.0</td>\n",
       "      <td>...</td>\n",
       "      <td>0.000000</td>\n",
       "      <td>0.000000</td>\n",
       "      <td>60.5</td>\n",
       "      <td>61.9</td>\n",
       "      <td>59.3</td>\n",
       "      <td>52.2</td>\n",
       "      <td>1.0</td>\n",
       "      <td>0.0</td>\n",
       "      <td>0.0</td>\n",
       "      <td>1.0</td>\n",
       "    </tr>\n",
       "    <tr>\n",
       "      <th>1</th>\n",
       "      <td>Albania</td>\n",
       "      <td>13345.0</td>\n",
       "      <td>9.498897</td>\n",
       "      <td>64.5</td>\n",
       "      <td>5.98</td>\n",
       "      <td>12.5</td>\n",
       "      <td>3.5</td>\n",
       "      <td>0.85</td>\n",
       "      <td>28703.0</td>\n",
       "      <td>2870324.0</td>\n",
       "      <td>...</td>\n",
       "      <td>0.005853</td>\n",
       "      <td>0.000059</td>\n",
       "      <td>77.8</td>\n",
       "      <td>80.7</td>\n",
       "      <td>75.1</td>\n",
       "      <td>68.8</td>\n",
       "      <td>0.0</td>\n",
       "      <td>0.0</td>\n",
       "      <td>1.0</td>\n",
       "      <td>0.0</td>\n",
       "    </tr>\n",
       "    <tr>\n",
       "      <th>2</th>\n",
       "      <td>Algeria</td>\n",
       "      <td>15440.0</td>\n",
       "      <td>9.644717</td>\n",
       "      <td>44.7</td>\n",
       "      <td>3.50</td>\n",
       "      <td>11.2</td>\n",
       "      <td>4.3</td>\n",
       "      <td>8.85</td>\n",
       "      <td>2381741.0</td>\n",
       "      <td>42545964.0</td>\n",
       "      <td>...</td>\n",
       "      <td>0.005122</td>\n",
       "      <td>0.000287</td>\n",
       "      <td>75.6</td>\n",
       "      <td>77.5</td>\n",
       "      <td>73.8</td>\n",
       "      <td>66.0</td>\n",
       "      <td>0.0</td>\n",
       "      <td>0.0</td>\n",
       "      <td>0.0</td>\n",
       "      <td>1.0</td>\n",
       "    </tr>\n",
       "    <tr>\n",
       "      <th>3</th>\n",
       "      <td>Angola</td>\n",
       "      <td>6814.0</td>\n",
       "      <td>8.826735</td>\n",
       "      <td>48.6</td>\n",
       "      <td>3.62</td>\n",
       "      <td>NaN</td>\n",
       "      <td>3.5</td>\n",
       "      <td>9.38</td>\n",
       "      <td>1246700.0</td>\n",
       "      <td>29250009.0</td>\n",
       "      <td>...</td>\n",
       "      <td>0.006636</td>\n",
       "      <td>0.000283</td>\n",
       "      <td>52.4</td>\n",
       "      <td>54.0</td>\n",
       "      <td>50.9</td>\n",
       "      <td>45.8</td>\n",
       "      <td>0.0</td>\n",
       "      <td>0.0</td>\n",
       "      <td>0.0</td>\n",
       "      <td>1.0</td>\n",
       "    </tr>\n",
       "    <tr>\n",
       "      <th>4</th>\n",
       "      <td>Antigua and Barbuda</td>\n",
       "      <td>27981.0</td>\n",
       "      <td>10.239281</td>\n",
       "      <td>NaN</td>\n",
       "      <td>NaN</td>\n",
       "      <td>11.0</td>\n",
       "      <td>2.5</td>\n",
       "      <td>11.88</td>\n",
       "      <td>442.0</td>\n",
       "      <td>104084.0</td>\n",
       "      <td>...</td>\n",
       "      <td>NaN</td>\n",
       "      <td>NaN</td>\n",
       "      <td>76.4</td>\n",
       "      <td>78.6</td>\n",
       "      <td>74.1</td>\n",
       "      <td>67.5</td>\n",
       "      <td>0.0</td>\n",
       "      <td>1.0</td>\n",
       "      <td>0.0</td>\n",
       "      <td>0.0</td>\n",
       "    </tr>\n",
       "  </tbody>\n",
       "</table>\n",
       "<p>5 rows × 22 columns</p>\n",
       "</div>"
      ],
      "text/plain": [
       "     Country/Territory  GDP per Capita (USD)    Log GDP  \\\n",
       "0          Afghanistan                2017.0   7.609367   \n",
       "1              Albania               13345.0   9.498897   \n",
       "2              Algeria               15440.0   9.644717   \n",
       "3               Angola                6814.0   8.826735   \n",
       "4  Antigua and Barbuda               27981.0  10.239281   \n",
       "\n",
       "   Index of Economic Freedom Score  Democracy Index Score  \\\n",
       "0                             51.1                   2.97   \n",
       "1                             64.5                   5.98   \n",
       "2                             44.7                   3.50   \n",
       "3                             48.6                   3.62   \n",
       "4                              NaN                    NaN   \n",
       "\n",
       "   Unemployment Rate (%)  Expenditure on Education (% of GDP)  \\\n",
       "0                   23.9                                  3.1   \n",
       "1                   12.5                                  3.5   \n",
       "2                   11.2                                  4.3   \n",
       "3                    NaN                                  3.5   \n",
       "4                   11.0                                  2.5   \n",
       "\n",
       "   Tariff Rate: Weighted Mean, All Products (%)  Area (km2)  Population  \\\n",
       "0                                          7.02    645807.0  31575018.0   \n",
       "1                                          0.85     28703.0   2870324.0   \n",
       "2                                          8.85   2381741.0  42545964.0   \n",
       "3                                          9.38   1246700.0  29250009.0   \n",
       "4                                         11.88       442.0    104084.0   \n",
       "\n",
       "     ...     Proven Oil per km2 (MMbbl)  Proven Oil per Capita (MMbbl)  \\\n",
       "0    ...                       0.000000                       0.000000   \n",
       "1    ...                       0.005853                       0.000059   \n",
       "2    ...                       0.005122                       0.000287   \n",
       "3    ...                       0.006636                       0.000283   \n",
       "4    ...                            NaN                            NaN   \n",
       "\n",
       "   Both Sexes Life Expectancy  Female Life Expectancy  Male Life Expectancy  \\\n",
       "0                        60.5                    61.9                  59.3   \n",
       "1                        77.8                    80.7                  75.1   \n",
       "2                        75.6                    77.5                  73.8   \n",
       "3                        52.4                    54.0                  50.9   \n",
       "4                        76.4                    78.6                  74.1   \n",
       "\n",
       "   Both Sexes Life Expectancy (HALE)  Landlocked  Free  Partly Free  Not Free  \n",
       "0                               52.2         1.0   0.0          0.0       1.0  \n",
       "1                               68.8         0.0   0.0          1.0       0.0  \n",
       "2                               66.0         0.0   0.0          0.0       1.0  \n",
       "3                               45.8         0.0   0.0          0.0       1.0  \n",
       "4                               67.5         0.0   1.0          0.0       0.0  \n",
       "\n",
       "[5 rows x 22 columns]"
      ]
     },
     "execution_count": 44,
     "metadata": {},
     "output_type": "execute_result"
    }
   ],
   "source": [
    "GDP = GDP.drop(columns = ['Unnamed: 0'])\n",
    "print(len(GDP))\n",
    "GDP.head()"
   ]
  },
  {
   "cell_type": "code",
   "execution_count": 45,
   "metadata": {},
   "outputs": [
    {
     "data": {
      "text/plain": [
       "Index(['Country/Territory', 'GDP per Capita (USD)', 'Log GDP',\n",
       "       'Index of Economic Freedom Score', 'Democracy Index Score',\n",
       "       'Unemployment Rate (%)', 'Expenditure on Education (% of GDP)',\n",
       "       'Tariff Rate: Weighted Mean, All Products (%)', 'Area (km2)',\n",
       "       'Population', 'Population Density (pop./km2)',\n",
       "       'Proven Oil Reserves (MMbbl)', 'Proven Oil per km2 (MMbbl)',\n",
       "       'Proven Oil per Capita (MMbbl)', 'Both Sexes Life Expectancy',\n",
       "       'Female Life Expectancy', 'Male Life Expectancy',\n",
       "       'Both Sexes Life Expectancy (HALE)', 'Landlocked', 'Free',\n",
       "       'Partly Free', 'Not Free'],\n",
       "      dtype='object')"
      ]
     },
     "execution_count": 45,
     "metadata": {},
     "output_type": "execute_result"
    }
   ],
   "source": [
    "GDP.columns"
   ]
  },
  {
   "cell_type": "code",
   "execution_count": 46,
   "metadata": {},
   "outputs": [
    {
     "data": {
      "text/html": [
       "<div>\n",
       "<style scoped>\n",
       "    .dataframe tbody tr th:only-of-type {\n",
       "        vertical-align: middle;\n",
       "    }\n",
       "\n",
       "    .dataframe tbody tr th {\n",
       "        vertical-align: top;\n",
       "    }\n",
       "\n",
       "    .dataframe thead th {\n",
       "        text-align: right;\n",
       "    }\n",
       "</style>\n",
       "<table border=\"1\" class=\"dataframe\">\n",
       "  <thead>\n",
       "    <tr style=\"text-align: right;\">\n",
       "      <th></th>\n",
       "      <th>Country/Territory</th>\n",
       "      <th>GDP per Capita (USD)</th>\n",
       "      <th>Log GDP</th>\n",
       "      <th>Index of Economic Freedom Score</th>\n",
       "      <th>Democracy Index Score</th>\n",
       "      <th>Unemployment Rate (%)</th>\n",
       "      <th>Expenditure on Education (% of GDP)</th>\n",
       "      <th>Tariff Rate: Weighted Mean, All Products (%)</th>\n",
       "      <th>Area (km2)</th>\n",
       "      <th>Population</th>\n",
       "      <th>...</th>\n",
       "      <th>Proven Oil per km2 (MMbbl)</th>\n",
       "      <th>Proven Oil per Capita (MMbbl)</th>\n",
       "      <th>Both Sexes Life Expectancy</th>\n",
       "      <th>Female Life Expectancy</th>\n",
       "      <th>Male Life Expectancy</th>\n",
       "      <th>Both Sexes Life Expectancy (HALE)</th>\n",
       "      <th>Landlocked</th>\n",
       "      <th>Free</th>\n",
       "      <th>Partly Free</th>\n",
       "      <th>Not Free</th>\n",
       "    </tr>\n",
       "  </thead>\n",
       "  <tbody>\n",
       "    <tr>\n",
       "      <th>0</th>\n",
       "      <td>Afghanistan</td>\n",
       "      <td>2017.0</td>\n",
       "      <td>7.609367</td>\n",
       "      <td>51.1</td>\n",
       "      <td>2.97</td>\n",
       "      <td>23.9</td>\n",
       "      <td>3.1</td>\n",
       "      <td>7.02</td>\n",
       "      <td>645807.0</td>\n",
       "      <td>31575018.0</td>\n",
       "      <td>...</td>\n",
       "      <td>0.000000</td>\n",
       "      <td>0.000000</td>\n",
       "      <td>60.5</td>\n",
       "      <td>61.9</td>\n",
       "      <td>59.3</td>\n",
       "      <td>52.2</td>\n",
       "      <td>1.0</td>\n",
       "      <td>0.0</td>\n",
       "      <td>0.0</td>\n",
       "      <td>1.0</td>\n",
       "    </tr>\n",
       "    <tr>\n",
       "      <th>1</th>\n",
       "      <td>Albania</td>\n",
       "      <td>13345.0</td>\n",
       "      <td>9.498897</td>\n",
       "      <td>64.5</td>\n",
       "      <td>5.98</td>\n",
       "      <td>12.5</td>\n",
       "      <td>3.5</td>\n",
       "      <td>0.85</td>\n",
       "      <td>28703.0</td>\n",
       "      <td>2870324.0</td>\n",
       "      <td>...</td>\n",
       "      <td>0.005853</td>\n",
       "      <td>0.000059</td>\n",
       "      <td>77.8</td>\n",
       "      <td>80.7</td>\n",
       "      <td>75.1</td>\n",
       "      <td>68.8</td>\n",
       "      <td>0.0</td>\n",
       "      <td>0.0</td>\n",
       "      <td>1.0</td>\n",
       "      <td>0.0</td>\n",
       "    </tr>\n",
       "    <tr>\n",
       "      <th>2</th>\n",
       "      <td>Algeria</td>\n",
       "      <td>15440.0</td>\n",
       "      <td>9.644717</td>\n",
       "      <td>44.7</td>\n",
       "      <td>3.50</td>\n",
       "      <td>11.2</td>\n",
       "      <td>4.3</td>\n",
       "      <td>8.85</td>\n",
       "      <td>2381741.0</td>\n",
       "      <td>42545964.0</td>\n",
       "      <td>...</td>\n",
       "      <td>0.005122</td>\n",
       "      <td>0.000287</td>\n",
       "      <td>75.6</td>\n",
       "      <td>77.5</td>\n",
       "      <td>73.8</td>\n",
       "      <td>66.0</td>\n",
       "      <td>0.0</td>\n",
       "      <td>0.0</td>\n",
       "      <td>0.0</td>\n",
       "      <td>1.0</td>\n",
       "    </tr>\n",
       "    <tr>\n",
       "      <th>3</th>\n",
       "      <td>Angola</td>\n",
       "      <td>6814.0</td>\n",
       "      <td>8.826735</td>\n",
       "      <td>48.6</td>\n",
       "      <td>3.62</td>\n",
       "      <td>NaN</td>\n",
       "      <td>3.5</td>\n",
       "      <td>9.38</td>\n",
       "      <td>1246700.0</td>\n",
       "      <td>29250009.0</td>\n",
       "      <td>...</td>\n",
       "      <td>0.006636</td>\n",
       "      <td>0.000283</td>\n",
       "      <td>52.4</td>\n",
       "      <td>54.0</td>\n",
       "      <td>50.9</td>\n",
       "      <td>45.8</td>\n",
       "      <td>0.0</td>\n",
       "      <td>0.0</td>\n",
       "      <td>0.0</td>\n",
       "      <td>1.0</td>\n",
       "    </tr>\n",
       "    <tr>\n",
       "      <th>4</th>\n",
       "      <td>Antigua and Barbuda</td>\n",
       "      <td>27981.0</td>\n",
       "      <td>10.239281</td>\n",
       "      <td>NaN</td>\n",
       "      <td>NaN</td>\n",
       "      <td>11.0</td>\n",
       "      <td>2.5</td>\n",
       "      <td>11.88</td>\n",
       "      <td>442.0</td>\n",
       "      <td>104084.0</td>\n",
       "      <td>...</td>\n",
       "      <td>0.000000</td>\n",
       "      <td>0.000000</td>\n",
       "      <td>76.4</td>\n",
       "      <td>78.6</td>\n",
       "      <td>74.1</td>\n",
       "      <td>67.5</td>\n",
       "      <td>0.0</td>\n",
       "      <td>1.0</td>\n",
       "      <td>0.0</td>\n",
       "      <td>0.0</td>\n",
       "    </tr>\n",
       "  </tbody>\n",
       "</table>\n",
       "<p>5 rows × 22 columns</p>\n",
       "</div>"
      ],
      "text/plain": [
       "     Country/Territory  GDP per Capita (USD)    Log GDP  \\\n",
       "0          Afghanistan                2017.0   7.609367   \n",
       "1              Albania               13345.0   9.498897   \n",
       "2              Algeria               15440.0   9.644717   \n",
       "3               Angola                6814.0   8.826735   \n",
       "4  Antigua and Barbuda               27981.0  10.239281   \n",
       "\n",
       "   Index of Economic Freedom Score  Democracy Index Score  \\\n",
       "0                             51.1                   2.97   \n",
       "1                             64.5                   5.98   \n",
       "2                             44.7                   3.50   \n",
       "3                             48.6                   3.62   \n",
       "4                              NaN                    NaN   \n",
       "\n",
       "   Unemployment Rate (%)  Expenditure on Education (% of GDP)  \\\n",
       "0                   23.9                                  3.1   \n",
       "1                   12.5                                  3.5   \n",
       "2                   11.2                                  4.3   \n",
       "3                    NaN                                  3.5   \n",
       "4                   11.0                                  2.5   \n",
       "\n",
       "   Tariff Rate: Weighted Mean, All Products (%)  Area (km2)  Population  \\\n",
       "0                                          7.02    645807.0  31575018.0   \n",
       "1                                          0.85     28703.0   2870324.0   \n",
       "2                                          8.85   2381741.0  42545964.0   \n",
       "3                                          9.38   1246700.0  29250009.0   \n",
       "4                                         11.88       442.0    104084.0   \n",
       "\n",
       "     ...     Proven Oil per km2 (MMbbl)  Proven Oil per Capita (MMbbl)  \\\n",
       "0    ...                       0.000000                       0.000000   \n",
       "1    ...                       0.005853                       0.000059   \n",
       "2    ...                       0.005122                       0.000287   \n",
       "3    ...                       0.006636                       0.000283   \n",
       "4    ...                       0.000000                       0.000000   \n",
       "\n",
       "   Both Sexes Life Expectancy  Female Life Expectancy  Male Life Expectancy  \\\n",
       "0                        60.5                    61.9                  59.3   \n",
       "1                        77.8                    80.7                  75.1   \n",
       "2                        75.6                    77.5                  73.8   \n",
       "3                        52.4                    54.0                  50.9   \n",
       "4                        76.4                    78.6                  74.1   \n",
       "\n",
       "   Both Sexes Life Expectancy (HALE)  Landlocked  Free  Partly Free  Not Free  \n",
       "0                               52.2         1.0   0.0          0.0       1.0  \n",
       "1                               68.8         0.0   0.0          1.0       0.0  \n",
       "2                               66.0         0.0   0.0          0.0       1.0  \n",
       "3                               45.8         0.0   0.0          0.0       1.0  \n",
       "4                               67.5         0.0   1.0          0.0       0.0  \n",
       "\n",
       "[5 rows x 22 columns]"
      ]
     },
     "execution_count": 46,
     "metadata": {},
     "output_type": "execute_result"
    }
   ],
   "source": [
    "GDP['Proven Oil Reserves (MMbbl)'] = GDP['Proven Oil Reserves (MMbbl)'].fillna(0)\n",
    "GDP['Proven Oil per km2 (MMbbl)'] = GDP['Proven Oil per km2 (MMbbl)'].fillna(0)\n",
    "GDP['Proven Oil per Capita (MMbbl)'] = GDP['Proven Oil per Capita (MMbbl)'].fillna(0)\n",
    "GDP.head()"
   ]
  },
  {
   "cell_type": "code",
   "execution_count": 47,
   "metadata": {},
   "outputs": [
    {
     "data": {
      "text/plain": [
       "(array([98., 36., 21., 18.,  9.,  3.,  2.,  1.,  2.,  1.]),\n",
       " array([   712. ,  13688.3,  26664.6,  39640.9,  52617.2,  65593.5,\n",
       "         78569.8,  91546.1, 104522.4, 117498.7, 130475. ]),\n",
       " <a list of 10 Patch objects>)"
      ]
     },
     "execution_count": 47,
     "metadata": {},
     "output_type": "execute_result"
    },
    {
     "data": {
      "image/png": "[encoded data removed]",
      "text/plain": [
       "<Figure size 432x288 with 1 Axes>"
      ]
     },
     "metadata": {
      "needs_background": "light"
     },
     "output_type": "display_data"
    }
   ],
   "source": [
    "# Data is not normally distributed\n",
    "plt.hist(GDP['GDP per Capita (USD)']);"
   ]
  },
  {
   "cell_type": "code",
   "execution_count": 48,
   "metadata": {},
   "outputs": [
    {
     "data": {
      "text/plain": [
       "(array([ 3., 14., 15., 22., 24., 30., 26., 30., 21.,  6.]),\n",
       " array([ 6.56807791,  7.08916381,  7.61024971,  8.13133561,  8.65242151,\n",
       "         9.17350741,  9.69459331, 10.21567921, 10.73676512, 11.25785102,\n",
       "        11.77893692]),\n",
       " <a list of 10 Patch objects>)"
      ]
     },
     "execution_count": 48,
     "metadata": {},
     "output_type": "execute_result"
    },
    {
     "data": {
      "image/png": "[encoded data removed]",
      "text/plain": [
       "<Figure size 432x288 with 1 Axes>"
      ]
     },
     "metadata": {
      "needs_background": "light"
     },
     "output_type": "display_data"
    }
   ],
   "source": [
    "# Use log transformed data as the response variable\n",
    "plt.hist(GDP['Log GDP']);"
   ]
  },
  {
   "cell_type": "code",
   "execution_count": 49,
   "metadata": {},
   "outputs": [],
   "source": [
    "GDP_Countries = GDP.iloc[:, 0:1]"
   ]
  },
  {
   "cell_type": "code",
   "execution_count": 50,
   "metadata": {},
   "outputs": [],
   "source": [
    "import fancyimpute\n",
    "from fancyimpute import KNN"
   ]
  },
  {
   "cell_type": "code",
   "execution_count": 51,
   "metadata": {},
   "outputs": [],
   "source": [
    "# Impute NaN values with KNN"
   ]
  },
  {
   "cell_type": "code",
   "execution_count": 52,
   "metadata": {},
   "outputs": [
    {
     "name": "stdout",
     "output_type": "stream",
     "text": [
      "Imputing row 1/191 with 0 missing, elapsed time: 0.011\n",
      "Imputing row 101/191 with 6 missing, elapsed time: 0.013\n"
     ]
    }
   ],
   "source": [
    "GDP_array = fancyimpute.KNN(k=3).fit_transform(GDP.iloc[:, 1:])"
   ]
  },
  {
   "cell_type": "code",
   "execution_count": 53,
   "metadata": {},
   "outputs": [
    {
     "data": {
      "text/html": [
       "<div>\n",
       "<style scoped>\n",
       "    .dataframe tbody tr th:only-of-type {\n",
       "        vertical-align: middle;\n",
       "    }\n",
       "\n",
       "    .dataframe tbody tr th {\n",
       "        vertical-align: top;\n",
       "    }\n",
       "\n",
       "    .dataframe thead th {\n",
       "        text-align: right;\n",
       "    }\n",
       "</style>\n",
       "<table border=\"1\" class=\"dataframe\">\n",
       "  <thead>\n",
       "    <tr style=\"text-align: right;\">\n",
       "      <th></th>\n",
       "      <th>GDP per Capita (USD)</th>\n",
       "      <th>Log GDP</th>\n",
       "      <th>Index of Economic Freedom Score</th>\n",
       "      <th>Democracy Index Score</th>\n",
       "      <th>Unemployment Rate (%)</th>\n",
       "      <th>Expenditure on Education (% of GDP)</th>\n",
       "      <th>Tariff Rate: Weighted Mean, All Products (%)</th>\n",
       "      <th>Area (km2)</th>\n",
       "      <th>Population</th>\n",
       "      <th>Population Density (pop./km2)</th>\n",
       "      <th>...</th>\n",
       "      <th>Proven Oil per km2 (MMbbl)</th>\n",
       "      <th>Proven Oil per Capita (MMbbl)</th>\n",
       "      <th>Both Sexes Life Expectancy</th>\n",
       "      <th>Female Life Expectancy</th>\n",
       "      <th>Male Life Expectancy</th>\n",
       "      <th>Both Sexes Life Expectancy (HALE)</th>\n",
       "      <th>Landlocked</th>\n",
       "      <th>Free</th>\n",
       "      <th>Partly Free</th>\n",
       "      <th>Not Free</th>\n",
       "    </tr>\n",
       "  </thead>\n",
       "  <tbody>\n",
       "    <tr>\n",
       "      <th>0</th>\n",
       "      <td>2017.0</td>\n",
       "      <td>7.609367</td>\n",
       "      <td>51.100000</td>\n",
       "      <td>2.97000</td>\n",
       "      <td>23.900000</td>\n",
       "      <td>3.1</td>\n",
       "      <td>7.02</td>\n",
       "      <td>645807.0</td>\n",
       "      <td>31575018.0</td>\n",
       "      <td>49.0</td>\n",
       "      <td>...</td>\n",
       "      <td>0.000000</td>\n",
       "      <td>0.000000</td>\n",
       "      <td>60.5</td>\n",
       "      <td>61.9</td>\n",
       "      <td>59.3</td>\n",
       "      <td>52.2</td>\n",
       "      <td>1.0</td>\n",
       "      <td>0.0</td>\n",
       "      <td>0.0</td>\n",
       "      <td>1.0</td>\n",
       "    </tr>\n",
       "    <tr>\n",
       "      <th>1</th>\n",
       "      <td>13345.0</td>\n",
       "      <td>9.498897</td>\n",
       "      <td>64.500000</td>\n",
       "      <td>5.98000</td>\n",
       "      <td>12.500000</td>\n",
       "      <td>3.5</td>\n",
       "      <td>0.85</td>\n",
       "      <td>28703.0</td>\n",
       "      <td>2870324.0</td>\n",
       "      <td>100.0</td>\n",
       "      <td>...</td>\n",
       "      <td>0.005853</td>\n",
       "      <td>0.000059</td>\n",
       "      <td>77.8</td>\n",
       "      <td>80.7</td>\n",
       "      <td>75.1</td>\n",
       "      <td>68.8</td>\n",
       "      <td>0.0</td>\n",
       "      <td>0.0</td>\n",
       "      <td>1.0</td>\n",
       "      <td>0.0</td>\n",
       "    </tr>\n",
       "    <tr>\n",
       "      <th>2</th>\n",
       "      <td>15440.0</td>\n",
       "      <td>9.644717</td>\n",
       "      <td>44.700000</td>\n",
       "      <td>3.50000</td>\n",
       "      <td>11.200000</td>\n",
       "      <td>4.3</td>\n",
       "      <td>8.85</td>\n",
       "      <td>2381741.0</td>\n",
       "      <td>42545964.0</td>\n",
       "      <td>18.0</td>\n",
       "      <td>...</td>\n",
       "      <td>0.005122</td>\n",
       "      <td>0.000287</td>\n",
       "      <td>75.6</td>\n",
       "      <td>77.5</td>\n",
       "      <td>73.8</td>\n",
       "      <td>66.0</td>\n",
       "      <td>0.0</td>\n",
       "      <td>0.0</td>\n",
       "      <td>0.0</td>\n",
       "      <td>1.0</td>\n",
       "    </tr>\n",
       "    <tr>\n",
       "      <th>3</th>\n",
       "      <td>6814.0</td>\n",
       "      <td>8.826735</td>\n",
       "      <td>48.600000</td>\n",
       "      <td>3.62000</td>\n",
       "      <td>23.974853</td>\n",
       "      <td>3.5</td>\n",
       "      <td>9.38</td>\n",
       "      <td>1246700.0</td>\n",
       "      <td>29250009.0</td>\n",
       "      <td>23.0</td>\n",
       "      <td>...</td>\n",
       "      <td>0.006636</td>\n",
       "      <td>0.000283</td>\n",
       "      <td>52.4</td>\n",
       "      <td>54.0</td>\n",
       "      <td>50.9</td>\n",
       "      <td>45.8</td>\n",
       "      <td>0.0</td>\n",
       "      <td>0.0</td>\n",
       "      <td>0.0</td>\n",
       "      <td>1.0</td>\n",
       "    </tr>\n",
       "    <tr>\n",
       "      <th>4</th>\n",
       "      <td>27981.0</td>\n",
       "      <td>10.239281</td>\n",
       "      <td>62.733498</td>\n",
       "      <td>8.85307</td>\n",
       "      <td>11.000000</td>\n",
       "      <td>2.5</td>\n",
       "      <td>11.88</td>\n",
       "      <td>442.0</td>\n",
       "      <td>104084.0</td>\n",
       "      <td>235.0</td>\n",
       "      <td>...</td>\n",
       "      <td>0.000000</td>\n",
       "      <td>0.000000</td>\n",
       "      <td>76.4</td>\n",
       "      <td>78.6</td>\n",
       "      <td>74.1</td>\n",
       "      <td>67.5</td>\n",
       "      <td>0.0</td>\n",
       "      <td>1.0</td>\n",
       "      <td>0.0</td>\n",
       "      <td>0.0</td>\n",
       "    </tr>\n",
       "  </tbody>\n",
       "</table>\n",
       "<p>5 rows × 21 columns</p>\n",
       "</div>"
      ],
      "text/plain": [
       "   GDP per Capita (USD)    Log GDP  Index of Economic Freedom Score  \\\n",
       "0                2017.0   7.609367                        51.100000   \n",
       "1               13345.0   9.498897                        64.500000   \n",
       "2               15440.0   9.644717                        44.700000   \n",
       "3                6814.0   8.826735                        48.600000   \n",
       "4               27981.0  10.239281                        62.733498   \n",
       "\n",
       "   Democracy Index Score  Unemployment Rate (%)  \\\n",
       "0                2.97000              23.900000   \n",
       "1                5.98000              12.500000   \n",
       "2                3.50000              11.200000   \n",
       "3                3.62000              23.974853   \n",
       "4                8.85307              11.000000   \n",
       "\n",
       "   Expenditure on Education (% of GDP)  \\\n",
       "0                                  3.1   \n",
       "1                                  3.5   \n",
       "2                                  4.3   \n",
       "3                                  3.5   \n",
       "4                                  2.5   \n",
       "\n",
       "   Tariff Rate: Weighted Mean, All Products (%)  Area (km2)  Population  \\\n",
       "0                                          7.02    645807.0  31575018.0   \n",
       "1                                          0.85     28703.0   2870324.0   \n",
       "2                                          8.85   2381741.0  42545964.0   \n",
       "3                                          9.38   1246700.0  29250009.0   \n",
       "4                                         11.88       442.0    104084.0   \n",
       "\n",
       "   Population Density (pop./km2)    ...     Proven Oil per km2 (MMbbl)  \\\n",
       "0                           49.0    ...                       0.000000   \n",
       "1                          100.0    ...                       0.005853   \n",
       "2                           18.0    ...                       0.005122   \n",
       "3                           23.0    ...                       0.006636   \n",
       "4                          235.0    ...                       0.000000   \n",
       "\n",
       "   Proven Oil per Capita (MMbbl)  Both Sexes Life Expectancy  \\\n",
       "0                       0.000000                        60.5   \n",
       "1                       0.000059                        77.8   \n",
       "2                       0.000287                        75.6   \n",
       "3                       0.000283                        52.4   \n",
       "4                       0.000000                        76.4   \n",
       "\n",
       "   Female Life Expectancy  Male Life Expectancy  \\\n",
       "0                    61.9                  59.3   \n",
       "1                    80.7                  75.1   \n",
       "2                    77.5                  73.8   \n",
       "3                    54.0                  50.9   \n",
       "4                    78.6                  74.1   \n",
       "\n",
       "   Both Sexes Life Expectancy (HALE)  Landlocked  Free  Partly Free  Not Free  \n",
       "0                               52.2         1.0   0.0          0.0       1.0  \n",
       "1                               68.8         0.0   0.0          1.0       0.0  \n",
       "2                               66.0         0.0   0.0          0.0       1.0  \n",
       "3                               45.8         0.0   0.0          0.0       1.0  \n",
       "4                               67.5         0.0   1.0          0.0       0.0  \n",
       "\n",
       "[5 rows x 21 columns]"
      ]
     },
     "execution_count": 53,
     "metadata": {},
     "output_type": "execute_result"
    }
   ],
   "source": [
    "GDP = pd.DataFrame(GDP_array, columns = GDP.iloc[:, 1:].columns)\n",
    "GDP.head()"
   ]
  },
  {
   "cell_type": "code",
   "execution_count": 54,
   "metadata": {},
   "outputs": [
    {
     "name": "stdout",
     "output_type": "stream",
     "text": [
      "191\n"
     ]
    },
    {
     "data": {
      "text/html": [
       "<div>\n",
       "<style scoped>\n",
       "    .dataframe tbody tr th:only-of-type {\n",
       "        vertical-align: middle;\n",
       "    }\n",
       "\n",
       "    .dataframe tbody tr th {\n",
       "        vertical-align: top;\n",
       "    }\n",
       "\n",
       "    .dataframe thead th {\n",
       "        text-align: right;\n",
       "    }\n",
       "</style>\n",
       "<table border=\"1\" class=\"dataframe\">\n",
       "  <thead>\n",
       "    <tr style=\"text-align: right;\">\n",
       "      <th></th>\n",
       "      <th>CountryTerritory</th>\n",
       "      <th>GDPperCapitaUSD</th>\n",
       "      <th>LogGDP</th>\n",
       "      <th>IndexofEconomicFreedomScore</th>\n",
       "      <th>DemocracyIndexScore</th>\n",
       "      <th>UnemploymentRate</th>\n",
       "      <th>ExpenditureonEducationPercentofGDP</th>\n",
       "      <th>TariffRateWeightedMeanAllProducts</th>\n",
       "      <th>Areakm2</th>\n",
       "      <th>Population</th>\n",
       "      <th>...</th>\n",
       "      <th>ProvenOilperkm2MMbbl</th>\n",
       "      <th>ProvenOilperCapitaMMbbl</th>\n",
       "      <th>BothSexesLifeExpectancy</th>\n",
       "      <th>FemaleLifeExpectancy</th>\n",
       "      <th>MaleLifeExpectancy</th>\n",
       "      <th>BothSexesLifeExpectancyHALE</th>\n",
       "      <th>Landlocked</th>\n",
       "      <th>Free</th>\n",
       "      <th>PartlyFree</th>\n",
       "      <th>NotFree</th>\n",
       "    </tr>\n",
       "  </thead>\n",
       "  <tbody>\n",
       "    <tr>\n",
       "      <th>0</th>\n",
       "      <td>Afghanistan</td>\n",
       "      <td>2017.0</td>\n",
       "      <td>7.609367</td>\n",
       "      <td>51.100000</td>\n",
       "      <td>2.97000</td>\n",
       "      <td>23.900000</td>\n",
       "      <td>3.1</td>\n",
       "      <td>7.02</td>\n",
       "      <td>645807.0</td>\n",
       "      <td>31575018.0</td>\n",
       "      <td>...</td>\n",
       "      <td>0.000000</td>\n",
       "      <td>0.000000</td>\n",
       "      <td>60.5</td>\n",
       "      <td>61.9</td>\n",
       "      <td>59.3</td>\n",
       "      <td>52.2</td>\n",
       "      <td>1.0</td>\n",
       "      <td>0.0</td>\n",
       "      <td>0.0</td>\n",
       "      <td>1.0</td>\n",
       "    </tr>\n",
       "    <tr>\n",
       "      <th>1</th>\n",
       "      <td>Albania</td>\n",
       "      <td>13345.0</td>\n",
       "      <td>9.498897</td>\n",
       "      <td>64.500000</td>\n",
       "      <td>5.98000</td>\n",
       "      <td>12.500000</td>\n",
       "      <td>3.5</td>\n",
       "      <td>0.85</td>\n",
       "      <td>28703.0</td>\n",
       "      <td>2870324.0</td>\n",
       "      <td>...</td>\n",
       "      <td>0.005853</td>\n",
       "      <td>0.000059</td>\n",
       "      <td>77.8</td>\n",
       "      <td>80.7</td>\n",
       "      <td>75.1</td>\n",
       "      <td>68.8</td>\n",
       "      <td>0.0</td>\n",
       "      <td>0.0</td>\n",
       "      <td>1.0</td>\n",
       "      <td>0.0</td>\n",
       "    </tr>\n",
       "    <tr>\n",
       "      <th>2</th>\n",
       "      <td>Algeria</td>\n",
       "      <td>15440.0</td>\n",
       "      <td>9.644717</td>\n",
       "      <td>44.700000</td>\n",
       "      <td>3.50000</td>\n",
       "      <td>11.200000</td>\n",
       "      <td>4.3</td>\n",
       "      <td>8.85</td>\n",
       "      <td>2381741.0</td>\n",
       "      <td>42545964.0</td>\n",
       "      <td>...</td>\n",
       "      <td>0.005122</td>\n",
       "      <td>0.000287</td>\n",
       "      <td>75.6</td>\n",
       "      <td>77.5</td>\n",
       "      <td>73.8</td>\n",
       "      <td>66.0</td>\n",
       "      <td>0.0</td>\n",
       "      <td>0.0</td>\n",
       "      <td>0.0</td>\n",
       "      <td>1.0</td>\n",
       "    </tr>\n",
       "    <tr>\n",
       "      <th>3</th>\n",
       "      <td>Angola</td>\n",
       "      <td>6814.0</td>\n",
       "      <td>8.826735</td>\n",
       "      <td>48.600000</td>\n",
       "      <td>3.62000</td>\n",
       "      <td>23.974853</td>\n",
       "      <td>3.5</td>\n",
       "      <td>9.38</td>\n",
       "      <td>1246700.0</td>\n",
       "      <td>29250009.0</td>\n",
       "      <td>...</td>\n",
       "      <td>0.006636</td>\n",
       "      <td>0.000283</td>\n",
       "      <td>52.4</td>\n",
       "      <td>54.0</td>\n",
       "      <td>50.9</td>\n",
       "      <td>45.8</td>\n",
       "      <td>0.0</td>\n",
       "      <td>0.0</td>\n",
       "      <td>0.0</td>\n",
       "      <td>1.0</td>\n",
       "    </tr>\n",
       "    <tr>\n",
       "      <th>4</th>\n",
       "      <td>Antigua and Barbuda</td>\n",
       "      <td>27981.0</td>\n",
       "      <td>10.239281</td>\n",
       "      <td>62.733498</td>\n",
       "      <td>8.85307</td>\n",
       "      <td>11.000000</td>\n",
       "      <td>2.5</td>\n",
       "      <td>11.88</td>\n",
       "      <td>442.0</td>\n",
       "      <td>104084.0</td>\n",
       "      <td>...</td>\n",
       "      <td>0.000000</td>\n",
       "      <td>0.000000</td>\n",
       "      <td>76.4</td>\n",
       "      <td>78.6</td>\n",
       "      <td>74.1</td>\n",
       "      <td>67.5</td>\n",
       "      <td>0.0</td>\n",
       "      <td>1.0</td>\n",
       "      <td>0.0</td>\n",
       "      <td>0.0</td>\n",
       "    </tr>\n",
       "  </tbody>\n",
       "</table>\n",
       "<p>5 rows × 22 columns</p>\n",
       "</div>"
      ],
      "text/plain": [
       "      CountryTerritory  GDPperCapitaUSD     LogGDP  \\\n",
       "0          Afghanistan           2017.0   7.609367   \n",
       "1              Albania          13345.0   9.498897   \n",
       "2              Algeria          15440.0   9.644717   \n",
       "3               Angola           6814.0   8.826735   \n",
       "4  Antigua and Barbuda          27981.0  10.239281   \n",
       "\n",
       "   IndexofEconomicFreedomScore  DemocracyIndexScore  UnemploymentRate  \\\n",
       "0                    51.100000              2.97000         23.900000   \n",
       "1                    64.500000              5.98000         12.500000   \n",
       "2                    44.700000              3.50000         11.200000   \n",
       "3                    48.600000              3.62000         23.974853   \n",
       "4                    62.733498              8.85307         11.000000   \n",
       "\n",
       "   ExpenditureonEducationPercentofGDP  TariffRateWeightedMeanAllProducts  \\\n",
       "0                                 3.1                               7.02   \n",
       "1                                 3.5                               0.85   \n",
       "2                                 4.3                               8.85   \n",
       "3                                 3.5                               9.38   \n",
       "4                                 2.5                              11.88   \n",
       "\n",
       "     Areakm2  Population   ...     ProvenOilperkm2MMbbl  \\\n",
       "0   645807.0  31575018.0   ...                 0.000000   \n",
       "1    28703.0   2870324.0   ...                 0.005853   \n",
       "2  2381741.0  42545964.0   ...                 0.005122   \n",
       "3  1246700.0  29250009.0   ...                 0.006636   \n",
       "4      442.0    104084.0   ...                 0.000000   \n",
       "\n",
       "   ProvenOilperCapitaMMbbl  BothSexesLifeExpectancy  FemaleLifeExpectancy  \\\n",
       "0                 0.000000                     60.5                  61.9   \n",
       "1                 0.000059                     77.8                  80.7   \n",
       "2                 0.000287                     75.6                  77.5   \n",
       "3                 0.000283                     52.4                  54.0   \n",
       "4                 0.000000                     76.4                  78.6   \n",
       "\n",
       "   MaleLifeExpectancy  BothSexesLifeExpectancyHALE  Landlocked  Free  \\\n",
       "0                59.3                         52.2         1.0   0.0   \n",
       "1                75.1                         68.8         0.0   0.0   \n",
       "2                73.8                         66.0         0.0   0.0   \n",
       "3                50.9                         45.8         0.0   0.0   \n",
       "4                74.1                         67.5         0.0   1.0   \n",
       "\n",
       "   PartlyFree  NotFree  \n",
       "0         0.0      1.0  \n",
       "1         1.0      0.0  \n",
       "2         0.0      1.0  \n",
       "3         0.0      1.0  \n",
       "4         0.0      0.0  \n",
       "\n",
       "[5 rows x 22 columns]"
      ]
     },
     "execution_count": 54,
     "metadata": {},
     "output_type": "execute_result"
    }
   ],
   "source": [
    "GDP = pd.merge(GDP_Countries, GDP, how = 'left', left_index = True, right_index = True)\n",
    "GDP.columns = ['CountryTerritory', 'GDPperCapitaUSD', 'LogGDP', 'IndexofEconomicFreedomScore', 'DemocracyIndexScore', 'UnemploymentRate', 'ExpenditureonEducationPercentofGDP', 'TariffRateWeightedMeanAllProducts', 'Areakm2', 'Population', 'PopulationDensitypopkm2', 'ProvenOilReservesMMbbl', 'ProvenOilperkm2MMbbl', 'ProvenOilperCapitaMMbbl', 'BothSexesLifeExpectancy', 'FemaleLifeExpectancy', 'MaleLifeExpectancy', 'BothSexesLifeExpectancyHALE', 'Landlocked', 'Free', 'PartlyFree', 'NotFree']\n",
    "print(len(GDP))\n",
    "GDP.head()\n"
   ]
  },
  {
   "cell_type": "code",
   "execution_count": 55,
   "metadata": {},
   "outputs": [
    {
     "data": {
      "text/plain": [
       "(191, 22)"
      ]
     },
     "execution_count": 55,
     "metadata": {},
     "output_type": "execute_result"
    }
   ],
   "source": [
    "GDP.shape"
   ]
  },
  {
   "cell_type": "code",
   "execution_count": 56,
   "metadata": {},
   "outputs": [
    {
     "data": {
      "text/plain": [
       "(191, 19)"
      ]
     },
     "execution_count": 56,
     "metadata": {},
     "output_type": "execute_result"
    }
   ],
   "source": [
    "X = GDP.drop(['CountryTerritory', 'GDPperCapitaUSD', 'LogGDP'], axis=1)\n",
    "X.shape"
   ]
  },
  {
   "cell_type": "code",
   "execution_count": 57,
   "metadata": {},
   "outputs": [
    {
     "data": {
      "text/plain": [
       "(191,)"
      ]
     },
     "execution_count": 57,
     "metadata": {},
     "output_type": "execute_result"
    }
   ],
   "source": [
    "y = GDP['LogGDP']\n",
    "y.shape"
   ]
  },
  {
   "cell_type": "code",
   "execution_count": 58,
   "metadata": {},
   "outputs": [],
   "source": [
    "from sklearn.model_selection import KFold, train_test_split\n",
    "from sklearn.linear_model import LinearRegression, Lasso, LassoCV, Ridge, RidgeCV\n",
    "from sklearn.metrics import r2_score, mean_squared_error\n",
    "from sklearn.pipeline import Pipeline\n",
    "from sklearn.preprocessing import StandardScaler"
   ]
  },
  {
   "cell_type": "code",
   "execution_count": 59,
   "metadata": {},
   "outputs": [],
   "source": [
    "import warnings\n",
    "warnings.filterwarnings('ignore')"
   ]
  },
  {
   "cell_type": "code",
   "execution_count": 60,
   "metadata": {},
   "outputs": [],
   "source": [
    "# Split the data 60 - 20 - 20 train/val/test\n",
    "X_train_val, X_test, y_train_val, y_test = train_test_split(X, y, test_size=0.2,random_state=42)\n",
    "X_train, X_val, y_train, y_val = train_test_split(X_train_val, y_train_val, test_size=.25, random_state=43)"
   ]
  },
  {
   "cell_type": "code",
   "execution_count": 61,
   "metadata": {},
   "outputs": [
    {
     "data": {
      "text/plain": [
       "Index(['IndexofEconomicFreedomScore', 'DemocracyIndexScore',\n",
       "       'UnemploymentRate', 'ExpenditureonEducationPercentofGDP',\n",
       "       'TariffRateWeightedMeanAllProducts', 'Areakm2', 'Population',\n",
       "       'PopulationDensitypopkm2', 'ProvenOilReservesMMbbl',\n",
       "       'ProvenOilperkm2MMbbl', 'ProvenOilperCapitaMMbbl',\n",
       "       'BothSexesLifeExpectancy', 'FemaleLifeExpectancy', 'MaleLifeExpectancy',\n",
       "       'BothSexesLifeExpectancyHALE', 'Landlocked', 'Free', 'PartlyFree',\n",
       "       'NotFree'],\n",
       "      dtype='object')"
      ]
     },
     "execution_count": 61,
     "metadata": {},
     "output_type": "execute_result"
    }
   ],
   "source": [
    "X_train.columns"
   ]
  },
  {
   "cell_type": "code",
   "execution_count": 62,
   "metadata": {},
   "outputs": [
    {
     "data": {
      "text/plain": [
       "(114, 19)"
      ]
     },
     "execution_count": 62,
     "metadata": {},
     "output_type": "execute_result"
    }
   ],
   "source": [
    "X_train.shape"
   ]
  },
  {
   "cell_type": "code",
   "execution_count": 63,
   "metadata": {},
   "outputs": [
    {
     "data": {
      "text/plain": [
       "(38, 19)"
      ]
     },
     "execution_count": 63,
     "metadata": {},
     "output_type": "execute_result"
    }
   ],
   "source": [
    "X_val.shape"
   ]
  },
  {
   "cell_type": "code",
   "execution_count": 64,
   "metadata": {},
   "outputs": [
    {
     "data": {
      "text/plain": [
       "(39, 19)"
      ]
     },
     "execution_count": 64,
     "metadata": {},
     "output_type": "execute_result"
    }
   ],
   "source": [
    "X_test.shape"
   ]
  },
  {
   "cell_type": "code",
   "execution_count": 65,
   "metadata": {},
   "outputs": [],
   "source": [
    "# Automated Regularization Strength Tuning via Cross-validation"
   ]
  },
  {
   "cell_type": "code",
   "execution_count": 66,
   "metadata": {},
   "outputs": [
    {
     "data": {
      "text/plain": [
       "StandardScaler(copy=True, with_mean=True, with_std=True)"
      ]
     },
     "execution_count": 66,
     "metadata": {},
     "output_type": "execute_result"
    }
   ],
   "source": [
    "std = StandardScaler()\n",
    "std.fit(X_train.values)"
   ]
  },
  {
   "cell_type": "code",
   "execution_count": 67,
   "metadata": {},
   "outputs": [],
   "source": [
    "X_tr = std.transform(X_train.values)\n",
    "X_te = std.transform(X_test.values)"
   ]
  },
  {
   "cell_type": "code",
   "execution_count": 68,
   "metadata": {},
   "outputs": [
    {
     "data": {
      "text/plain": [
       "LassoCV(alphas=array([1.00000e-02, 1.04737e-02, ..., 9.54772e+01, 1.00000e+02]),\n",
       "    copy_X=True, cv=10, eps=0.001, fit_intercept=True, max_iter=1000,\n",
       "    n_alphas=100, n_jobs=None, normalize=False, positive=False,\n",
       "    precompute='auto', random_state=None, selection='cyclic', tol=0.0001,\n",
       "    verbose=False)"
      ]
     },
     "execution_count": 68,
     "metadata": {},
     "output_type": "execute_result"
    }
   ],
   "source": [
    "# Run the cross validation, find the best alpha, refit the model on all the data with that alpha\n",
    "alphavec = 10**np.linspace(-2,2,200)\n",
    "lasso_model = LassoCV(alphas = alphavec, cv = 10)\n",
    "lasso_model.fit(X_tr, y_train)"
   ]
  },
  {
   "cell_type": "code",
   "execution_count": 69,
   "metadata": {},
   "outputs": [
    {
     "data": {
      "text/plain": [
       "RidgeCV(alphas=array([1.00000e-02, 1.04737e-02, ..., 9.54772e+01, 1.00000e+02]),\n",
       "    cv=10, fit_intercept=True, gcv_mode=None, normalize=False,\n",
       "    scoring=None, store_cv_values=False)"
      ]
     },
     "execution_count": 69,
     "metadata": {},
     "output_type": "execute_result"
    }
   ],
   "source": [
    "ridge_model = RidgeCV(alphas = alphavec, cv = 10)\n",
    "ridge_model.fit(X_tr, y_train)"
   ]
  },
  {
   "cell_type": "code",
   "execution_count": 70,
   "metadata": {},
   "outputs": [],
   "source": [
    "lr_model = LinearRegression().fit(X_tr, y_train)"
   ]
  },
  {
   "cell_type": "code",
   "execution_count": 71,
   "metadata": {
    "scrolled": false
   },
   "outputs": [
    {
     "data": {
      "text/plain": [
       "0.02523539170434766"
      ]
     },
     "execution_count": 71,
     "metadata": {},
     "output_type": "execute_result"
    }
   ],
   "source": [
    "# Best LASSO alpha value \n",
    "lasso_model.alpha_"
   ]
  },
  {
   "cell_type": "code",
   "execution_count": 72,
   "metadata": {},
   "outputs": [
    {
     "data": {
      "text/plain": [
       "36.123426997094306"
      ]
     },
     "execution_count": 72,
     "metadata": {},
     "output_type": "execute_result"
    }
   ],
   "source": [
    "# Best RIDGE alpha value \n",
    "ridge_model.alpha_"
   ]
  },
  {
   "cell_type": "code",
   "execution_count": 73,
   "metadata": {},
   "outputs": [],
   "source": [
    "LASSO_test_set_pred = lasso_model.predict(X_te)"
   ]
  },
  {
   "cell_type": "code",
   "execution_count": 74,
   "metadata": {},
   "outputs": [],
   "source": [
    "RIDGE_test_set_pred = ridge_model.predict(X_te)"
   ]
  },
  {
   "cell_type": "code",
   "execution_count": 75,
   "metadata": {},
   "outputs": [],
   "source": [
    "# Mean Absolute Error (MAE)\n",
    "def mae(y_true, y_pred):\n",
    "    return np.mean(np.abs(y_pred - y_true)) "
   ]
  },
  {
   "cell_type": "code",
   "execution_count": null,
   "metadata": {},
   "outputs": [],
   "source": [
    "LR_MAE_Model_Test_Set = mae(y_test, LR_test_set_pred)\n",
    "LR_MAE_Model_Test_Set"
   ]
  },
  {
   "cell_type": "code",
   "execution_count": 76,
   "metadata": {},
   "outputs": [
    {
     "data": {
      "text/plain": [
       "0.5107131142892163"
      ]
     },
     "execution_count": 76,
     "metadata": {},
     "output_type": "execute_result"
    }
   ],
   "source": [
    "LASSO_MAE_Model_Test_Set = mae(y_test, LASSO_test_set_pred)\n",
    "LASSO_MAE_Model_Test_Set"
   ]
  },
  {
   "cell_type": "code",
   "execution_count": 77,
   "metadata": {},
   "outputs": [
    {
     "data": {
      "text/plain": [
       "0.5219398641234881"
      ]
     },
     "execution_count": 77,
     "metadata": {},
     "output_type": "execute_result"
    }
   ],
   "source": [
    "RIDGE_MAE_Model_Test_Set = mae(y_test, RIDGE_test_set_pred)\n",
    "RIDGE_MAE_Model_Test_Set"
   ]
  },
  {
   "cell_type": "code",
   "execution_count": null,
   "metadata": {},
   "outputs": [],
   "source": [
    "LR_r2_Model_Test_Set = r2_score(y_test, LR_test_set_pred)\n",
    "LR_r2_Model_Test_Set"
   ]
  },
  {
   "cell_type": "code",
   "execution_count": 78,
   "metadata": {},
   "outputs": [
    {
     "data": {
      "text/plain": [
       "0.6668378224466371"
      ]
     },
     "execution_count": 78,
     "metadata": {},
     "output_type": "execute_result"
    }
   ],
   "source": [
    "LASSO_r2_Model_Test_Set = r2_score(y_test, LASSO_test_set_pred)\n",
    "LASSO_r2_Model_Test_Set"
   ]
  },
  {
   "cell_type": "code",
   "execution_count": 79,
   "metadata": {},
   "outputs": [
    {
     "data": {
      "text/plain": [
       "0.6593446123330887"
      ]
     },
     "execution_count": 79,
     "metadata": {},
     "output_type": "execute_result"
    }
   ],
   "source": [
    "RIDGE_r2_Model_Test_Set = r2_score(y_test, RIDGE_test_set_pred)\n",
    "RIDGE_r2_Model_Test_Set"
   ]
  },
  {
   "cell_type": "code",
   "execution_count": 80,
   "metadata": {
    "scrolled": false
   },
   "outputs": [
    {
     "data": {
      "text/plain": [
       "[('IndexofEconomicFreedomScore', 0.2771530763937883),\n",
       " ('DemocracyIndexScore', 0.0893976631436822),\n",
       " ('UnemploymentRate', -0.0),\n",
       " ('ExpenditureonEducationPercentofGDP', -0.043931208006221814),\n",
       " ('TariffRateWeightedMeanAllProducts', 0.0),\n",
       " ('Areakm2', 0.034995091273409065),\n",
       " ('Population', -0.0),\n",
       " ('PopulationDensitypopkm2', 0.141387578662459),\n",
       " ('ProvenOilReservesMMbbl', 0.05877791974690529),\n",
       " ('ProvenOilperkm2MMbbl', 0.07376169522664502),\n",
       " ('ProvenOilperCapitaMMbbl', 0.09378653072281398),\n",
       " ('BothSexesLifeExpectancy', 0.0),\n",
       " ('FemaleLifeExpectancy', 0.04120094411652498),\n",
       " ('MaleLifeExpectancy', 0.0),\n",
       " ('BothSexesLifeExpectancyHALE', 0.4640506761821223),\n",
       " ('Landlocked', -0.06205327969415881),\n",
       " ('Free', 0.0),\n",
       " ('PartlyFree', -0.17719482165368933),\n",
       " ('NotFree', 0.054748893807721986)]"
      ]
     },
     "execution_count": 80,
     "metadata": {},
     "output_type": "execute_result"
    }
   ],
   "source": [
    "# Standardized coefficients LASSO\n",
    "list(zip(X_train.columns, lasso_model.coef_))"
   ]
  },
  {
   "cell_type": "code",
   "execution_count": 81,
   "metadata": {},
   "outputs": [],
   "source": [
    "# Drop features from the model"
   ]
  },
  {
   "cell_type": "code",
   "execution_count": 82,
   "metadata": {},
   "outputs": [
    {
     "data": {
      "text/plain": [
       "(191, 9)"
      ]
     },
     "execution_count": 82,
     "metadata": {},
     "output_type": "execute_result"
    }
   ],
   "source": [
    "X = GDP.drop(['CountryTerritory', 'GDPperCapitaUSD', 'LogGDP', 'TariffRateWeightedMeanAllProducts', 'Population', 'ProvenOilReservesMMbbl', 'ProvenOilperkm2MMbbl', 'BothSexesLifeExpectancy', 'FemaleLifeExpectancy', 'MaleLifeExpectancy', 'Free', 'PartlyFree', 'NotFree'], axis=1)\n",
    "X.shape\n"
   ]
  },
  {
   "cell_type": "code",
   "execution_count": 85,
   "metadata": {},
   "outputs": [],
   "source": [
    "# Split the data 60 - 20 - 20 train/val/test\n",
    "X_train_val, X_test, y_train_val, y_test = train_test_split(X, y, test_size=0.2,random_state=42)\n",
    "X_train, X_val, y_train, y_val = train_test_split(X_train_val, y_train_val, test_size=.25, random_state=43)"
   ]
  },
  {
   "cell_type": "code",
   "execution_count": 86,
   "metadata": {},
   "outputs": [
    {
     "data": {
      "text/plain": [
       "Index(['IndexofEconomicFreedomScore', 'DemocracyIndexScore',\n",
       "       'UnemploymentRate', 'ExpenditureonEducationPercentofGDP', 'Areakm2',\n",
       "       'PopulationDensitypopkm2', 'ProvenOilperCapitaMMbbl',\n",
       "       'BothSexesLifeExpectancyHALE', 'Landlocked'],\n",
       "      dtype='object')"
      ]
     },
     "execution_count": 86,
     "metadata": {},
     "output_type": "execute_result"
    }
   ],
   "source": [
    "X_train.columns"
   ]
  },
  {
   "cell_type": "code",
   "execution_count": 87,
   "metadata": {},
   "outputs": [
    {
     "data": {
      "text/plain": [
       "(114, 9)"
      ]
     },
     "execution_count": 87,
     "metadata": {},
     "output_type": "execute_result"
    }
   ],
   "source": [
    "X_train.shape"
   ]
  },
  {
   "cell_type": "code",
   "execution_count": 88,
   "metadata": {},
   "outputs": [
    {
     "data": {
      "text/plain": [
       "(38, 9)"
      ]
     },
     "execution_count": 88,
     "metadata": {},
     "output_type": "execute_result"
    }
   ],
   "source": [
    "X_val.shape"
   ]
  },
  {
   "cell_type": "code",
   "execution_count": 89,
   "metadata": {},
   "outputs": [
    {
     "data": {
      "text/plain": [
       "(39, 9)"
      ]
     },
     "execution_count": 89,
     "metadata": {},
     "output_type": "execute_result"
    }
   ],
   "source": [
    "X_test.shape"
   ]
  },
  {
   "cell_type": "code",
   "execution_count": 90,
   "metadata": {},
   "outputs": [],
   "source": [
    "# Automated Regularization Strength Tuning via Cross-validation"
   ]
  },
  {
   "cell_type": "code",
   "execution_count": 91,
   "metadata": {},
   "outputs": [
    {
     "data": {
      "text/plain": [
       "StandardScaler(copy=True, with_mean=True, with_std=True)"
      ]
     },
     "execution_count": 91,
     "metadata": {},
     "output_type": "execute_result"
    }
   ],
   "source": [
    "std = StandardScaler()\n",
    "std.fit(X_train.values)"
   ]
  },
  {
   "cell_type": "code",
   "execution_count": 92,
   "metadata": {},
   "outputs": [],
   "source": [
    "X_tr = std.transform(X_train.values)\n",
    "X_te = std.transform(X_test.values)"
   ]
  },
  {
   "cell_type": "code",
   "execution_count": 93,
   "metadata": {},
   "outputs": [
    {
     "data": {
      "text/plain": [
       "LassoCV(alphas=array([1.00000e-02, 1.04737e-02, ..., 9.54772e+01, 1.00000e+02]),\n",
       "    copy_X=True, cv=10, eps=0.001, fit_intercept=True, max_iter=1000,\n",
       "    n_alphas=100, n_jobs=None, normalize=False, positive=False,\n",
       "    precompute='auto', random_state=None, selection='cyclic', tol=0.0001,\n",
       "    verbose=False)"
      ]
     },
     "execution_count": 93,
     "metadata": {},
     "output_type": "execute_result"
    }
   ],
   "source": [
    "# Run the cross validation, find the best alpha, refit the model on all the data with that alpha\n",
    "alphavec = 10**np.linspace(-2,2,200)\n",
    "lasso_model = LassoCV(alphas = alphavec, cv = 10)\n",
    "lasso_model.fit(X_tr, y_train)"
   ]
  },
  {
   "cell_type": "code",
   "execution_count": 94,
   "metadata": {},
   "outputs": [
    {
     "data": {
      "text/plain": [
       "RidgeCV(alphas=array([1.00000e-02, 1.04737e-02, ..., 9.54772e+01, 1.00000e+02]),\n",
       "    cv=10, fit_intercept=True, gcv_mode=None, normalize=False,\n",
       "    scoring=None, store_cv_values=False)"
      ]
     },
     "execution_count": 94,
     "metadata": {},
     "output_type": "execute_result"
    }
   ],
   "source": [
    "ridge_model = RidgeCV(alphas = alphavec, cv = 10)\n",
    "ridge_model.fit(X_tr, y_train)"
   ]
  },
  {
   "cell_type": "code",
   "execution_count": 101,
   "metadata": {},
   "outputs": [],
   "source": [
    "lr_model = LinearRegression().fit(X_tr, y_train)"
   ]
  },
  {
   "cell_type": "code",
   "execution_count": 102,
   "metadata": {},
   "outputs": [
    {
     "data": {
      "text/plain": [
       "0.06080224261649424"
      ]
     },
     "execution_count": 102,
     "metadata": {},
     "output_type": "execute_result"
    }
   ],
   "source": [
    "# Best LASSO alpha value \n",
    "lasso_model.alpha_"
   ]
  },
  {
   "cell_type": "code",
   "execution_count": 103,
   "metadata": {},
   "outputs": [
    {
     "data": {
      "text/plain": [
       "20.72921779595372"
      ]
     },
     "execution_count": 103,
     "metadata": {},
     "output_type": "execute_result"
    }
   ],
   "source": [
    "# Best RIDGE alpha value \n",
    "ridge_model.alpha_"
   ]
  },
  {
   "cell_type": "code",
   "execution_count": 104,
   "metadata": {},
   "outputs": [],
   "source": [
    "LR_test_set_pred = lr_model.predict(X_te)"
   ]
  },
  {
   "cell_type": "code",
   "execution_count": 100,
   "metadata": {},
   "outputs": [],
   "source": [
    "LASSO_test_set_pred = lasso_model.predict(X_te)"
   ]
  },
  {
   "cell_type": "code",
   "execution_count": 105,
   "metadata": {},
   "outputs": [],
   "source": [
    "RIDGE_test_set_pred = ridge_model.predict(X_te)"
   ]
  },
  {
   "cell_type": "code",
   "execution_count": 108,
   "metadata": {},
   "outputs": [
    {
     "data": {
      "text/plain": [
       "0.5169873942246321"
      ]
     },
     "execution_count": 108,
     "metadata": {},
     "output_type": "execute_result"
    }
   ],
   "source": [
    "LR_MAE_Model_Test_Set = mae(y_test, LR_test_set_pred)\n",
    "LR_MAE_Model_Test_Set"
   ]
  },
  {
   "cell_type": "code",
   "execution_count": 109,
   "metadata": {},
   "outputs": [
    {
     "data": {
      "text/plain": [
       "0.48787084621923466"
      ]
     },
     "execution_count": 109,
     "metadata": {},
     "output_type": "execute_result"
    }
   ],
   "source": [
    "LASSO_MAE_Model_Test_Set = mae(y_test, LASSO_test_set_pred)\n",
    "LASSO_MAE_Model_Test_Set"
   ]
  },
  {
   "cell_type": "code",
   "execution_count": 110,
   "metadata": {},
   "outputs": [
    {
     "data": {
      "text/plain": [
       "0.5292651159975157"
      ]
     },
     "execution_count": 110,
     "metadata": {},
     "output_type": "execute_result"
    }
   ],
   "source": [
    "RIDGE_MAE_Model_Test_Set = mae(y_test, RIDGE_test_set_pred)\n",
    "RIDGE_MAE_Model_Test_Set"
   ]
  },
  {
   "cell_type": "code",
   "execution_count": 111,
   "metadata": {},
   "outputs": [
    {
     "data": {
      "text/plain": [
       "0.6575298528222921"
      ]
     },
     "execution_count": 111,
     "metadata": {},
     "output_type": "execute_result"
    }
   ],
   "source": [
    "LR_r2_Model_Test_Set = r2_score(y_test, LR_test_set_pred)\n",
    "LR_r2_Model_Test_Set"
   ]
  },
  {
   "cell_type": "code",
   "execution_count": 113,
   "metadata": {},
   "outputs": [
    {
     "data": {
      "text/plain": [
       "0.70147405664362"
      ]
     },
     "execution_count": 113,
     "metadata": {},
     "output_type": "execute_result"
    }
   ],
   "source": [
    "LASSO_r2_Model_Test_Set = r2_score(y_test, LASSO_test_set_pred)\n",
    "LASSO_r2_Model_Test_Set"
   ]
  },
  {
   "cell_type": "code",
   "execution_count": 112,
   "metadata": {},
   "outputs": [
    {
     "data": {
      "text/plain": [
       "0.6647124316294375"
      ]
     },
     "execution_count": 112,
     "metadata": {},
     "output_type": "execute_result"
    }
   ],
   "source": [
    "RIDGE_r2_Model_Test_Set = r2_score(y_test, RIDGE_test_set_pred)\n",
    "RIDGE_r2_Model_Test_Set"
   ]
  },
  {
   "cell_type": "code",
   "execution_count": 114,
   "metadata": {},
   "outputs": [
    {
     "data": {
      "text/plain": [
       "[('IndexofEconomicFreedomScore', 0.2896066572041195),\n",
       " ('DemocracyIndexScore', 0.0),\n",
       " ('UnemploymentRate', -0.0),\n",
       " ('ExpenditureonEducationPercentofGDP', -0.0),\n",
       " ('Areakm2', 0.024607015699524122),\n",
       " ('PopulationDensitypopkm2', 0.07970663883699702),\n",
       " ('ProvenOilperCapitaMMbbl', 0.1817482462821659),\n",
       " ('BothSexesLifeExpectancyHALE', 0.5340840376191485),\n",
       " ('Landlocked', -0.04771820998628108)]"
      ]
     },
     "execution_count": 114,
     "metadata": {},
     "output_type": "execute_result"
    }
   ],
   "source": [
    "# Standardized coefficients LASSO\n",
    "list(zip(X_train.columns, lasso_model.coef_))"
   ]
  },
  {
   "cell_type": "code",
   "execution_count": null,
   "metadata": {},
   "outputs": [],
   "source": [
    "# Drop features from the model"
   ]
  },
  {
   "cell_type": "code",
   "execution_count": 115,
   "metadata": {},
   "outputs": [
    {
     "data": {
      "text/plain": [
       "(191, 6)"
      ]
     },
     "execution_count": 115,
     "metadata": {},
     "output_type": "execute_result"
    }
   ],
   "source": [
    "X = GDP.drop(['CountryTerritory', 'GDPperCapitaUSD', 'LogGDP', 'DemocracyIndexScore', 'UnemploymentRate', 'ExpenditureonEducationPercentofGDP', 'TariffRateWeightedMeanAllProducts', 'Population', 'ProvenOilReservesMMbbl', 'ProvenOilperkm2MMbbl', 'BothSexesLifeExpectancy', 'FemaleLifeExpectancy', 'MaleLifeExpectancy', 'Free', 'PartlyFree', 'NotFree'], axis=1)\n",
    "X.shape\n"
   ]
  },
  {
   "cell_type": "code",
   "execution_count": 117,
   "metadata": {},
   "outputs": [],
   "source": [
    "# Split the data 60 - 20 - 20 train/val/test\n",
    "X_train_val, X_test, y_train_val, y_test = train_test_split(X, y, test_size=0.2,random_state=42)\n",
    "X_train, X_val, y_train, y_val = train_test_split(X_train_val, y_train_val, test_size=.25, random_state=43)"
   ]
  },
  {
   "cell_type": "code",
   "execution_count": 118,
   "metadata": {},
   "outputs": [
    {
     "data": {
      "text/plain": [
       "Index(['IndexofEconomicFreedomScore', 'Areakm2', 'PopulationDensitypopkm2',\n",
       "       'ProvenOilperCapitaMMbbl', 'BothSexesLifeExpectancyHALE', 'Landlocked'],\n",
       "      dtype='object')"
      ]
     },
     "execution_count": 118,
     "metadata": {},
     "output_type": "execute_result"
    }
   ],
   "source": [
    "X_train.columns"
   ]
  },
  {
   "cell_type": "code",
   "execution_count": 120,
   "metadata": {},
   "outputs": [
    {
     "data": {
      "text/plain": [
       "(114, 6)"
      ]
     },
     "execution_count": 120,
     "metadata": {},
     "output_type": "execute_result"
    }
   ],
   "source": [
    "X_train.shape"
   ]
  },
  {
   "cell_type": "code",
   "execution_count": 119,
   "metadata": {
    "scrolled": true
   },
   "outputs": [
    {
     "data": {
      "text/plain": [
       "(38, 6)"
      ]
     },
     "execution_count": 119,
     "metadata": {},
     "output_type": "execute_result"
    }
   ],
   "source": [
    "X_val.shape"
   ]
  },
  {
   "cell_type": "code",
   "execution_count": 121,
   "metadata": {},
   "outputs": [
    {
     "data": {
      "text/plain": [
       "(39, 6)"
      ]
     },
     "execution_count": 121,
     "metadata": {},
     "output_type": "execute_result"
    }
   ],
   "source": [
    "X_test.shape"
   ]
  },
  {
   "cell_type": "code",
   "execution_count": 122,
   "metadata": {},
   "outputs": [],
   "source": [
    "# Automated Regularization Strength Tuning via Cross-validation"
   ]
  },
  {
   "cell_type": "code",
   "execution_count": 123,
   "metadata": {},
   "outputs": [
    {
     "data": {
      "text/plain": [
       "StandardScaler(copy=True, with_mean=True, with_std=True)"
      ]
     },
     "execution_count": 123,
     "metadata": {},
     "output_type": "execute_result"
    }
   ],
   "source": [
    "std = StandardScaler()\n",
    "std.fit(X_train.values)"
   ]
  },
  {
   "cell_type": "code",
   "execution_count": 124,
   "metadata": {},
   "outputs": [],
   "source": [
    "X_tr = std.transform(X_train.values)\n",
    "X_te = std.transform(X_test.values)"
   ]
  },
  {
   "cell_type": "code",
   "execution_count": 125,
   "metadata": {},
   "outputs": [
    {
     "data": {
      "text/plain": [
       "LassoCV(alphas=array([1.00000e-02, 1.04737e-02, ..., 9.54772e+01, 1.00000e+02]),\n",
       "    copy_X=True, cv=10, eps=0.001, fit_intercept=True, max_iter=1000,\n",
       "    n_alphas=100, n_jobs=None, normalize=False, positive=False,\n",
       "    precompute='auto', random_state=None, selection='cyclic', tol=0.0001,\n",
       "    verbose=False)"
      ]
     },
     "execution_count": 125,
     "metadata": {},
     "output_type": "execute_result"
    }
   ],
   "source": [
    "# Run the cross validation, find the best alpha, refit the model on all the data with that alpha\n",
    "alphavec = 10**np.linspace(-2,2,200)\n",
    "lasso_model = LassoCV(alphas = alphavec, cv = 10)\n",
    "lasso_model.fit(X_tr, y_train)"
   ]
  },
  {
   "cell_type": "code",
   "execution_count": 126,
   "metadata": {},
   "outputs": [
    {
     "data": {
      "text/plain": [
       "RidgeCV(alphas=array([1.00000e-02, 1.04737e-02, ..., 9.54772e+01, 1.00000e+02]),\n",
       "    cv=10, fit_intercept=True, gcv_mode=None, normalize=False,\n",
       "    scoring=None, store_cv_values=False)"
      ]
     },
     "execution_count": 126,
     "metadata": {},
     "output_type": "execute_result"
    }
   ],
   "source": [
    "ridge_model = RidgeCV(alphas = alphavec, cv = 10)\n",
    "ridge_model.fit(X_tr, y_train)"
   ]
  },
  {
   "cell_type": "code",
   "execution_count": 127,
   "metadata": {},
   "outputs": [],
   "source": [
    "lr_model = LinearRegression().fit(X_tr, y_train)"
   ]
  },
  {
   "cell_type": "code",
   "execution_count": 128,
   "metadata": {},
   "outputs": [
    {
     "data": {
      "text/plain": [
       "0.01"
      ]
     },
     "execution_count": 128,
     "metadata": {},
     "output_type": "execute_result"
    }
   ],
   "source": [
    "# Best LASSO alpha value \n",
    "lasso_model.alpha_"
   ]
  },
  {
   "cell_type": "code",
   "execution_count": 129,
   "metadata": {},
   "outputs": [
    {
     "data": {
      "text/plain": [
       "10.353218432956627"
      ]
     },
     "execution_count": 129,
     "metadata": {},
     "output_type": "execute_result"
    }
   ],
   "source": [
    "# Best RIDGE alpha value \n",
    "ridge_model.alpha_"
   ]
  },
  {
   "cell_type": "code",
   "execution_count": 130,
   "metadata": {},
   "outputs": [],
   "source": [
    "LR_test_set_pred = lr_model.predict(X_te)"
   ]
  },
  {
   "cell_type": "code",
   "execution_count": 131,
   "metadata": {},
   "outputs": [],
   "source": [
    "LASSO_test_set_pred = lasso_model.predict(X_te)"
   ]
  },
  {
   "cell_type": "code",
   "execution_count": 132,
   "metadata": {},
   "outputs": [],
   "source": [
    "RIDGE_test_set_pred = ridge_model.predict(X_te)"
   ]
  },
  {
   "cell_type": "code",
   "execution_count": 133,
   "metadata": {},
   "outputs": [
    {
     "data": {
      "text/plain": [
       "0.5063757516400325"
      ]
     },
     "execution_count": 133,
     "metadata": {},
     "output_type": "execute_result"
    }
   ],
   "source": [
    "LR_MAE_Model_Test_Set = mae(y_test, LR_test_set_pred)\n",
    "LR_MAE_Model_Test_Set"
   ]
  },
  {
   "cell_type": "code",
   "execution_count": 134,
   "metadata": {},
   "outputs": [
    {
     "data": {
      "text/plain": [
       "0.5033209741249246"
      ]
     },
     "execution_count": 134,
     "metadata": {},
     "output_type": "execute_result"
    }
   ],
   "source": [
    "LASSO_MAE_Model_Test_Set = mae(y_test, LASSO_test_set_pred)\n",
    "LASSO_MAE_Model_Test_Set"
   ]
  },
  {
   "cell_type": "code",
   "execution_count": 135,
   "metadata": {},
   "outputs": [
    {
     "data": {
      "text/plain": [
       "0.5138954660057278"
      ]
     },
     "execution_count": 135,
     "metadata": {},
     "output_type": "execute_result"
    }
   ],
   "source": [
    "RIDGE_MAE_Model_Test_Set = mae(y_test, RIDGE_test_set_pred)\n",
    "RIDGE_MAE_Model_Test_Set"
   ]
  },
  {
   "cell_type": "code",
   "execution_count": 136,
   "metadata": {},
   "outputs": [
    {
     "data": {
      "text/plain": [
       "0.6663508743781198"
      ]
     },
     "execution_count": 136,
     "metadata": {},
     "output_type": "execute_result"
    }
   ],
   "source": [
    "LR_r2_Model_Test_Set = r2_score(y_test, LR_test_set_pred)\n",
    "LR_r2_Model_Test_Set"
   ]
  },
  {
   "cell_type": "code",
   "execution_count": 137,
   "metadata": {},
   "outputs": [
    {
     "data": {
      "text/plain": [
       "0.6756005231683095"
      ]
     },
     "execution_count": 137,
     "metadata": {},
     "output_type": "execute_result"
    }
   ],
   "source": [
    "LASSO_r2_Model_Test_Set = r2_score(y_test, LASSO_test_set_pred)\n",
    "LASSO_r2_Model_Test_Set"
   ]
  },
  {
   "cell_type": "code",
   "execution_count": 138,
   "metadata": {},
   "outputs": [
    {
     "data": {
      "text/plain": [
       "0.6718417173744298"
      ]
     },
     "execution_count": 138,
     "metadata": {},
     "output_type": "execute_result"
    }
   ],
   "source": [
    "RIDGE_r2_Model_Test_Set = r2_score(y_test, RIDGE_test_set_pred)\n",
    "RIDGE_r2_Model_Test_Set"
   ]
  },
  {
   "cell_type": "code",
   "execution_count": 139,
   "metadata": {},
   "outputs": [
    {
     "data": {
      "text/plain": [
       "[('IndexofEconomicFreedomScore', 0.30369492482795113),\n",
       " ('Areakm2', 0.07239717150329619),\n",
       " ('PopulationDensitypopkm2', 0.13164199744749622),\n",
       " ('ProvenOilperCapitaMMbbl', 0.2198429651002326),\n",
       " ('BothSexesLifeExpectancyHALE', 0.5647372957699305),\n",
       " ('Landlocked', -0.07561460618318934)]"
      ]
     },
     "execution_count": 139,
     "metadata": {},
     "output_type": "execute_result"
    }
   ],
   "source": [
    "# Standardized coefficients LASSO\n",
    "list(zip(X_train.columns, lasso_model.coef_))"
   ]
  },
  {
   "cell_type": "code",
   "execution_count": 140,
   "metadata": {},
   "outputs": [],
   "source": [
    "from sklearn.linear_model import lars_path"
   ]
  },
  {
   "cell_type": "code",
   "execution_count": 142,
   "metadata": {},
   "outputs": [
    {
     "name": "stdout",
     "output_type": "stream",
     "text": [
      "Computing regularization path using the LARS ...\n"
     ]
    }
   ],
   "source": [
    "# Lars_path takes numpy matrices, not pandas dataframes\n",
    "\n",
    "print(\"Computing regularization path using the LARS ...\")\n",
    "alphas, _, coefs = lars_path(X_tr, y_train.values, method='lasso')"
   ]
  },
  {
   "cell_type": "code",
   "execution_count": 143,
   "metadata": {},
   "outputs": [
    {
     "data": {
      "image/png": "[encoded data removed]",
      "text/plain": [
       "<Figure size 720x720 with 1 Axes>"
      ]
     },
     "metadata": {
      "needs_background": "light"
     },
     "output_type": "display_data"
    }
   ],
   "source": [
    "# plotting the LARS path\n",
    "\n",
    "xx = np.sum(np.abs(coefs.T), axis=1)\n",
    "xx /= xx[-1]\n",
    "\n",
    "plt.figure(figsize=(10,10))\n",
    "plt.plot(xx, coefs.T)\n",
    "ymin, ymax = plt.ylim()\n",
    "plt.vlines(xx, ymin, ymax, linestyle='dashed')\n",
    "plt.xlabel('|coef| / max|coef|')\n",
    "plt.ylabel('Coefficients')\n",
    "plt.title('LASSO Path')\n",
    "plt.axis('tight')\n",
    "plt.legend(X_train.columns)\n",
    "plt.show()"
   ]
  },
  {
   "cell_type": "code",
   "execution_count": 145,
   "metadata": {},
   "outputs": [],
   "source": [
    "import statsmodels.formula.api as smf"
   ]
  },
  {
   "cell_type": "code",
   "execution_count": 146,
   "metadata": {},
   "outputs": [
    {
     "data": {
      "text/html": [
       "<table class=\"simpletable\">\n",
       "<caption>OLS Regression Results</caption>\n",
       "<tr>\n",
       "  <th>Dep. Variable:</th>         <td>LogGDP</td>      <th>  R-squared:         </th> <td>   0.710</td>\n",
       "</tr>\n",
       "<tr>\n",
       "  <th>Model:</th>                   <td>OLS</td>       <th>  Adj. R-squared:    </th> <td>   0.701</td>\n",
       "</tr>\n",
       "<tr>\n",
       "  <th>Method:</th>             <td>Least Squares</td>  <th>  F-statistic:       </th> <td>   75.19</td>\n",
       "</tr>\n",
       "<tr>\n",
       "  <th>Date:</th>             <td>Sun, 21 Apr 2019</td> <th>  Prob (F-statistic):</th> <td>7.02e-47</td>\n",
       "</tr>\n",
       "<tr>\n",
       "  <th>Time:</th>                 <td>11:50:45</td>     <th>  Log-Likelihood:    </th> <td> -185.69</td>\n",
       "</tr>\n",
       "<tr>\n",
       "  <th>No. Observations:</th>      <td>   191</td>      <th>  AIC:               </th> <td>   385.4</td>\n",
       "</tr>\n",
       "<tr>\n",
       "  <th>Df Residuals:</th>          <td>   184</td>      <th>  BIC:               </th> <td>   408.1</td>\n",
       "</tr>\n",
       "<tr>\n",
       "  <th>Df Model:</th>              <td>     6</td>      <th>                     </th>     <td> </td>   \n",
       "</tr>\n",
       "<tr>\n",
       "  <th>Covariance Type:</th>      <td>nonrobust</td>    <th>                     </th>     <td> </td>   \n",
       "</tr>\n",
       "</table>\n",
       "<table class=\"simpletable\">\n",
       "<tr>\n",
       "               <td></td>                  <th>coef</th>     <th>std err</th>      <th>t</th>      <th>P>|t|</th>  <th>[0.025</th>    <th>0.975]</th>  \n",
       "</tr>\n",
       "<tr>\n",
       "  <th>Intercept</th>                   <td>    1.0812</td> <td>    0.446</td> <td>    2.422</td> <td> 0.016</td> <td>    0.200</td> <td>    1.962</td>\n",
       "</tr>\n",
       "<tr>\n",
       "  <th>BothSexesLifeExpectancyHALE</th> <td>    0.0940</td> <td>    0.009</td> <td>   10.886</td> <td> 0.000</td> <td>    0.077</td> <td>    0.111</td>\n",
       "</tr>\n",
       "<tr>\n",
       "  <th>IndexofEconomicFreedomScore</th> <td>    0.0374</td> <td>    0.006</td> <td>    5.873</td> <td> 0.000</td> <td>    0.025</td> <td>    0.050</td>\n",
       "</tr>\n",
       "<tr>\n",
       "  <th>ProvenOilperCapitaMMbbl</th>     <td>   91.5420</td> <td>   21.844</td> <td>    4.191</td> <td> 0.000</td> <td>   48.446</td> <td>  134.638</td>\n",
       "</tr>\n",
       "<tr>\n",
       "  <th>PopulationDensitypopkm2</th>     <td> 8.172e-05</td> <td> 2.96e-05</td> <td>    2.757</td> <td> 0.006</td> <td> 2.32e-05</td> <td>    0.000</td>\n",
       "</tr>\n",
       "<tr>\n",
       "  <th>Landlocked</th>                  <td>   -0.0583</td> <td>    0.118</td> <td>   -0.494</td> <td> 0.622</td> <td>   -0.291</td> <td>    0.175</td>\n",
       "</tr>\n",
       "<tr>\n",
       "  <th>Areakm2</th>                     <td> 4.468e-08</td> <td> 2.46e-08</td> <td>    1.818</td> <td> 0.071</td> <td>-3.81e-09</td> <td> 9.32e-08</td>\n",
       "</tr>\n",
       "</table>\n",
       "<table class=\"simpletable\">\n",
       "<tr>\n",
       "  <th>Omnibus:</th>       <td> 9.000</td> <th>  Durbin-Watson:     </th> <td>   2.112</td>\n",
       "</tr>\n",
       "<tr>\n",
       "  <th>Prob(Omnibus):</th> <td> 0.011</td> <th>  Jarque-Bera (JB):  </th> <td>  12.537</td>\n",
       "</tr>\n",
       "<tr>\n",
       "  <th>Skew:</th>          <td> 0.294</td> <th>  Prob(JB):          </th> <td> 0.00189</td>\n",
       "</tr>\n",
       "<tr>\n",
       "  <th>Kurtosis:</th>      <td> 4.109</td> <th>  Cond. No.          </th> <td>9.50e+08</td>\n",
       "</tr>\n",
       "</table><br/><br/>Warnings:<br/>[1] Standard Errors assume that the covariance matrix of the errors is correctly specified.<br/>[2] The condition number is large, 9.5e+08. This might indicate that there are<br/>strong multicollinearity or other numerical problems."
      ],
      "text/plain": [
       "<class 'statsmodels.iolib.summary.Summary'>\n",
       "\"\"\"\n",
       "                            OLS Regression Results                            \n",
       "==============================================================================\n",
       "Dep. Variable:                 LogGDP   R-squared:                       0.710\n",
       "Model:                            OLS   Adj. R-squared:                  0.701\n",
       "Method:                 Least Squares   F-statistic:                     75.19\n",
       "Date:                Sun, 21 Apr 2019   Prob (F-statistic):           7.02e-47\n",
       "Time:                        11:50:45   Log-Likelihood:                -185.69\n",
       "No. Observations:                 191   AIC:                             385.4\n",
       "Df Residuals:                     184   BIC:                             408.1\n",
       "Df Model:                           6                                         \n",
       "Covariance Type:            nonrobust                                         \n",
       "===============================================================================================\n",
       "                                  coef    std err          t      P>|t|      [0.025      0.975]\n",
       "-----------------------------------------------------------------------------------------------\n",
       "Intercept                       1.0812      0.446      2.422      0.016       0.200       1.962\n",
       "BothSexesLifeExpectancyHALE     0.0940      0.009     10.886      0.000       0.077       0.111\n",
       "IndexofEconomicFreedomScore     0.0374      0.006      5.873      0.000       0.025       0.050\n",
       "ProvenOilperCapitaMMbbl        91.5420     21.844      4.191      0.000      48.446     134.638\n",
       "PopulationDensitypopkm2      8.172e-05   2.96e-05      2.757      0.006    2.32e-05       0.000\n",
       "Landlocked                     -0.0583      0.118     -0.494      0.622      -0.291       0.175\n",
       "Areakm2                      4.468e-08   2.46e-08      1.818      0.071   -3.81e-09    9.32e-08\n",
       "==============================================================================\n",
       "Omnibus:                        9.000   Durbin-Watson:                   2.112\n",
       "Prob(Omnibus):                  0.011   Jarque-Bera (JB):               12.537\n",
       "Skew:                           0.294   Prob(JB):                      0.00189\n",
       "Kurtosis:                       4.109   Cond. No.                     9.50e+08\n",
       "==============================================================================\n",
       "\n",
       "Warnings:\n",
       "[1] Standard Errors assume that the covariance matrix of the errors is correctly specified.\n",
       "[2] The condition number is large, 9.5e+08. This might indicate that there are\n",
       "strong multicollinearity or other numerical problems.\n",
       "\"\"\""
      ]
     },
     "execution_count": 146,
     "metadata": {},
     "output_type": "execute_result"
    }
   ],
   "source": [
    "# Statsmodels OLS\n",
    "\n",
    "# Define the model\n",
    "lm = smf.ols('LogGDP ~ BothSexesLifeExpectancyHALE + IndexofEconomicFreedomScore + ProvenOilperCapitaMMbbl + PopulationDensitypopkm2 + Landlocked + Areakm2', data = GDP)\n",
    "\n",
    "# Fit the model\n",
    "fit = lm.fit()\n",
    "\n",
    "# Print summary statistics of the model's performance\n",
    "fit.summary()\n"
   ]
  },
  {
   "cell_type": "code",
   "execution_count": null,
   "metadata": {},
   "outputs": [],
   "source": [
    "GDP_Model = GDP[['LogGDP', 'BothSexesLifeExpectancyHALE', 'IndexofEconomicFreedomScore', 'ProvenOilperCapitaMMbbl', 'PopulationDensitypopkm2', 'Landlocked', 'Areakm2']]\n"
   ]
  },
  {
   "cell_type": "code",
   "execution_count": null,
   "metadata": {},
   "outputs": [],
   "source": [
    "# Show the Pairplot\n",
    "sns.pairplot(GDP_Model)"
   ]
  },
  {
   "cell_type": "code",
   "execution_count": null,
   "metadata": {},
   "outputs": [],
   "source": [
    "# Create a Heatmap\n",
    "plt.figure(figsize=(12, 10))\n",
    "Heatmap = sns.heatmap(GDP_Model.corr(), cmap=\"seismic\", annot=True, vmin=-1, vmax=1, yticklabels = ['GDP', 'Life Expectancy', 'Economic Freedom', 'Oil per Capita', 'Population Density', 'Landlocked', 'Land Area']);\n",
    "Heatmap.set_xticklabels(rotation=285, labels = ['GDP', 'Life Expectancy', 'Economic Freedom', 'Oil per Capita', 'Population Density', 'Landlocked', 'Land Area']);\n"
   ]
  },
  {
   "cell_type": "code",
   "execution_count": 147,
   "metadata": {},
   "outputs": [],
   "source": [
    "import scipy.stats as stats"
   ]
  },
  {
   "cell_type": "code",
   "execution_count": 150,
   "metadata": {},
   "outputs": [],
   "source": [
    "GDP_Model['predict']=fit.predict(X)\n",
    "GDP_Model['resid']= y-GDP_Model.predict\n"
   ]
  },
  {
   "cell_type": "code",
   "execution_count": 152,
   "metadata": {},
   "outputs": [
    {
     "data": {
      "image/png": "[encoded data removed]",
      "text/plain": [
       "<Figure size 432x288 with 1 Axes>"
      ]
     },
     "metadata": {
      "needs_background": "light"
     },
     "output_type": "display_data"
    }
   ],
   "source": [
    "# Create a QQ Plot\n",
    "stats.probplot(GDP_Model['resid'], dist=\"norm\", plot=plt)\n",
    "plt.title(\"Normal Q-Q plot\")\n",
    "plt.show()"
   ]
  },
  {
   "cell_type": "code",
   "execution_count": 154,
   "metadata": {},
   "outputs": [
    {
     "data": {
      "image/png": "[encoded data removed]",
      "text/plain": [
       "<Figure size 720x432 with 1 Axes>"
      ]
     },
     "metadata": {},
     "output_type": "display_data"
    }
   ],
   "source": [
    "# Create a Residual Plot\n",
    "with sns.axes_style('white'):\n",
    "    plot = GDP_Model.plot(kind='scatter', x='predict', y='resid', alpha=0.5, figsize=(10,6))"
   ]
  },
  {
   "cell_type": "code",
   "execution_count": 157,
   "metadata": {},
   "outputs": [],
   "source": [
    "keys = list(GDP['CountryTerritory'])\n",
    "values = list(GDP['GDPperCapitaUSD'])\n",
    "my_dict = dict(zip(keys, values))"
   ]
  },
  {
   "cell_type": "code",
   "execution_count": 159,
   "metadata": {},
   "outputs": [
    {
     "data": {
      "text/plain": [
       "[('Central African Republic', 712.0),\n",
       " ('Burundi', 732.0),\n",
       " ('Democratic Republic of the Congo', 767.0),\n",
       " ('Malawi', 1199.0),\n",
       " ('Niger', 1217.0),\n",
       " ('Mozambique', 1291.0),\n",
       " ('Liberia', 1418.0),\n",
       " ('South Sudan', 1502.0),\n",
       " ('Sierra Leone', 1620.0),\n",
       " ('Madagascar', 1630.0),\n",
       " ('Comoros', 1632.0),\n",
       " ('Eritrea', 1657.0),\n",
       " ('Togo', 1746.0),\n",
       " ('Haiti', 1864.0),\n",
       " ('Guinea-Bissau', 1937.0),\n",
       " ('Burkina Faso', 1996.0),\n",
       " ('Afghanistan', 2017.0),\n",
       " ('Kiribati', 2086.0),\n",
       " ('Solomon Islands', 2242.0),\n",
       " ('Rwanda', 2280.0),\n",
       " ('Guinea', 2310.0),\n",
       " ('Ethiopia', 2332.0),\n",
       " ('Yemen', 2377.0),\n",
       " ('Mali', 2384.0),\n",
       " ('Chad', 2415.0),\n",
       " ('Benin', 2426.0),\n",
       " ('Uganda', 2498.0),\n",
       " ('Zimbabwe', 2788.0),\n",
       " ('Gambia', 2792.0),\n",
       " ('Vanuatu', 2862.0),\n",
       " ('Nepal', 2905.0),\n",
       " ('São Tomé and Príncipe', 3324.0),\n",
       " ('Tajikistan', 3415.0),\n",
       " ('Tanzania', 3444.0),\n",
       " ('F.S. Micronesia', 3482.0),\n",
       " ('Lesotho', 3494.0),\n",
       " ('Senegal', 3651.0),\n",
       " ('Papua New Guinea', 3662.0),\n",
       " ('Kenya', 3691.0),\n",
       " ('Marshall Islands', 3697.0),\n",
       " ('Djibouti', 3786.0),\n",
       " ('Cameroon', 3828.0),\n",
       " ('Kyrgyzstan', 3844.0),\n",
       " ('Mauritania', 3990.0),\n",
       " ('Tuvalu', 4052.0),\n",
       " ('Zambia', 4104.0),\n",
       " ('Ivory Coast', 4178.0),\n",
       " ('Sudan', 4232.0),\n",
       " ('Cambodia', 4335.0),\n",
       " ('Bangladesh', 4620.0),\n",
       " ('Honduras', 5212.0),\n",
       " ('Timor-Leste', 5242.0),\n",
       " ('Pakistan', 5680.0),\n",
       " ('Nicaragua', 5683.0),\n",
       " ('Samoa', 5890.0),\n",
       " ('Nigeria', 6027.0),\n",
       " ('Tonga', 6111.0),\n",
       " ('Ghana', 6452.0),\n",
       " ('Myanmar', 6511.0),\n",
       " ('Congo', 6799.0),\n",
       " ('Angola', 6814.0),\n",
       " ('Moldova', 7305.0),\n",
       " ('Cape Verde', 7316.0),\n",
       " ('Bolivia', 7477.0),\n",
       " ('Vietnam', 7510.0),\n",
       " ('Uzbekistan', 7665.0),\n",
       " ('India', 7874.0),\n",
       " ('Laos', 7925.0),\n",
       " ('El Salvador', 8041.0),\n",
       " ('Guatemala', 8436.0),\n",
       " ('Belize', 8501.0),\n",
       " ('Guyana', 8519.0),\n",
       " ('Morocco', 8933.0),\n",
       " ('Philippines', 8936.0),\n",
       " ('Ukraine', 9283.0),\n",
       " ('Jordan', 9433.0),\n",
       " ('Jamaica', 9447.0),\n",
       " ('Bhutan', 9540.0),\n",
       " ('Dominica', 9886.0),\n",
       " ('Armenia', 10176.0),\n",
       " ('Fiji', 10234.0),\n",
       " ('Eswatini', 11020.0),\n",
       " ('Namibia', 11229.0),\n",
       " ('Libya', 11469.0),\n",
       " ('Georgia', 11485.0),\n",
       " ('Kosovo', 11552.0),\n",
       " ('Ecuador', 11718.0),\n",
       " ('Saint Vincent and the Grenadines', 11956.0),\n",
       " ('Nauru', 12326.0),\n",
       " ('Tunisia', 12372.0),\n",
       " ('Indonesia', 13230.0),\n",
       " ('Albania', 13345.0),\n",
       " ('Egypt', 13366.0),\n",
       " ('Paraguay', 13395.0),\n",
       " ('Sri Lanka', 13397.0),\n",
       " ('Mongolia', 13447.0),\n",
       " ('Bosnia and Herzegovina', 13491.0),\n",
       " ('South Africa', 13675.0),\n",
       " ('Peru', 14224.0),\n",
       " ('Saint Lucia', 14355.0),\n",
       " ('Lebanon', 14684.0),\n",
       " ('Colombia', 14943.0),\n",
       " ('Palau', 14952.0),\n",
       " ('Suriname', 15105.0),\n",
       " ('Algeria', 15440.0),\n",
       " ('Macedonia', 15709.0),\n",
       " ('Brazil', 16154.0),\n",
       " ('Grenada', 16167.0),\n",
       " ('World[n 1]', 16779.0),\n",
       " ('Serbia', 17555.0),\n",
       " ('Costa Rica', 17559.0),\n",
       " ('Iraq', 17659.0),\n",
       " ('Botswana', 17965.0),\n",
       " ('Azerbaijan', 18076.0),\n",
       " ('China', 18110.0),\n",
       " ('Dominican Republic', 18424.0),\n",
       " ('Gabon', 18496.0),\n",
       " ('Barbados', 18534.0),\n",
       " ('Montenegro', 19043.0),\n",
       " ('Thailand', 19476.0),\n",
       " ('Turkmenistan', 19527.0),\n",
       " ('Iran', 19557.0),\n",
       " ('Belarus', 20003.0),\n",
       " ('Argentina', 20537.0),\n",
       " ('Mexico', 20602.0),\n",
       " ('Maldives', 21760.0),\n",
       " ('Equatorial Guinea', 22710.0),\n",
       " ('Bulgaria', 23156.0),\n",
       " ('Uruguay', 23274.0),\n",
       " ('Mauritius', 23699.0),\n",
       " ('Panama', 25674.0),\n",
       " ('Chile', 25978.0),\n",
       " ('Croatia', 26221.0),\n",
       " ('Romania', 26447.0),\n",
       " ('Kazakhstan', 27550.0),\n",
       " ('Turkey', 27956.0),\n",
       " ('Antigua and Barbuda', 27981.0),\n",
       " ('Greece', 29123.0),\n",
       " ('Russia', 29267.0),\n",
       " ('Saint Kitts and Nevis', 29820.0),\n",
       " ('Latvia', 29901.0),\n",
       " ('Seychelles', 30505.0),\n",
       " ('Malaysia', 30860.0),\n",
       " ('Hungary', 31903.0),\n",
       " ('Poland', 31939.0),\n",
       " ('Portugal', 32006.0),\n",
       " ('Trinidad and Tobago', 32254.0),\n",
       " ('Bahamas', 33494.0),\n",
       " ('Estonia', 34096.0),\n",
       " ('Lithuania', 34826.0),\n",
       " ('Slovakia', 35130.0),\n",
       " ('Slovenia', 36746.0),\n",
       " ('Czech Republic', 37371.0),\n",
       " ('Israel', 37972.0),\n",
       " ('Italy', 39637.0),\n",
       " ('Puerto Rico', 39737.0),\n",
       " ('Cyprus', 39973.0),\n",
       " ('New Zealand', 40135.0),\n",
       " ('Spain', 40139.0),\n",
       " ('South Korea', 41351.0),\n",
       " ('Japan', 44227.0),\n",
       " ('Malta', 45606.0),\n",
       " ('United Kingdom', 45705.0),\n",
       " ('France', 45775.0),\n",
       " ('Finland', 46430.0),\n",
       " ('Oman', 46584.0),\n",
       " ('Belgium', 48245.0),\n",
       " ('Canada', 49651.0),\n",
       " ('Bahrain', 50057.0),\n",
       " ('Denmark', 52121.0),\n",
       " ('Austria', 52137.0),\n",
       " ('Australia', 52373.0),\n",
       " ('Germany', 52559.0),\n",
       " ('Sweden', 52984.0),\n",
       " ('Taiwan', 53023.0),\n",
       " ('Iceland', 55917.0),\n",
       " ('Saudi Arabia', 55943.0),\n",
       " ('Netherlands', 56383.0),\n",
       " ('San Marino', 60313.0),\n",
       " ('United States', 62606.0),\n",
       " ('Hong Kong', 64216.0),\n",
       " ('Switzerland', 64649.0),\n",
       " ('Kuwait', 67000.0),\n",
       " ('United Arab Emirates', 69382.0),\n",
       " ('Norway', 74356.0),\n",
       " ('Ireland', 78785.0),\n",
       " ('Brunei', 79530.0),\n",
       " ('Singapore', 100345.0),\n",
       " ('Luxembourg', 106704.0),\n",
       " ('Macau', 116808.0),\n",
       " ('Qatar', 130475.0)]"
      ]
     },
     "execution_count": 159,
     "metadata": {},
     "output_type": "execute_result"
    }
   ],
   "source": [
    "import operator\n",
    "sorted_vals = sorted(my_dict.items(), key=operator.itemgetter(1))\n",
    "sorted_vals"
   ]
  },
  {
   "cell_type": "code",
   "execution_count": 160,
   "metadata": {},
   "outputs": [],
   "source": [
    "Countries, GDPperCapita = list(zip(*sorted_vals))"
   ]
  },
  {
   "cell_type": "code",
   "execution_count": 161,
   "metadata": {},
   "outputs": [
    {
     "data": {
      "text/plain": [
       "20"
      ]
     },
     "execution_count": 161,
     "metadata": {},
     "output_type": "execute_result"
    }
   ],
   "source": [
    "Top20_Countries = Countries[171:]\n",
    "Top20_GDPperCapita = GDPperCapita[171:]\n",
    "len(Top20_Countries)"
   ]
  },
  {
   "cell_type": "code",
   "execution_count": 163,
   "metadata": {},
   "outputs": [],
   "source": [
    "yticks = ['Qatar',\n",
    " 'Macau',\n",
    " 'Luxembourg',\n",
    " 'Singapore',\n",
    " 'Brunei',\n",
    " 'Ireland',\n",
    " 'Norway',\n",
    " 'United Arab Emirates',\n",
    " 'Kuwait',\n",
    " 'Switzerland',\n",
    " 'Hong Kong',\n",
    " 'United States',\n",
    " 'San Marino',\n",
    " 'Netherlands',\n",
    " 'Saudi Arabia',\n",
    " 'Iceland',\n",
    " 'Taiwan',\n",
    " 'Sweden',\n",
    " 'Germany',\n",
    " 'Australia']"
   ]
  },
  {
   "cell_type": "code",
   "execution_count": 164,
   "metadata": {},
   "outputs": [
    {
     "ename": "NameError",
     "evalue": "name 'length' is not defined",
     "output_type": "error",
     "traceback": [
      "\u001b[0;31m---------------------------------------------------------------------------\u001b[0m",
      "\u001b[0;31mNameError\u001b[0m                                 Traceback (most recent call last)",
      "\u001b[0;32m<ipython-input-164-fc6a55f7190d>\u001b[0m in \u001b[0;36m<module>\u001b[0;34m\u001b[0m\n\u001b[1;32m      8\u001b[0m \u001b[0mbarlist\u001b[0m \u001b[0;34m=\u001b[0m \u001b[0mplt\u001b[0m\u001b[0;34m.\u001b[0m\u001b[0mbarh\u001b[0m\u001b[0;34m(\u001b[0m\u001b[0my_pos\u001b[0m\u001b[0;34m,\u001b[0m \u001b[0mx_vals\u001b[0m\u001b[0;34m,\u001b[0m \u001b[0malign\u001b[0m\u001b[0;34m=\u001b[0m\u001b[0;34m'center'\u001b[0m\u001b[0;34m,\u001b[0m \u001b[0malpha\u001b[0m\u001b[0;34m=\u001b[0m\u001b[0;36m0.75\u001b[0m\u001b[0;34m)\u001b[0m\u001b[0;34m\u001b[0m\u001b[0;34m\u001b[0m\u001b[0m\n\u001b[1;32m      9\u001b[0m \u001b[0mbarlist\u001b[0m\u001b[0;34m[\u001b[0m\u001b[0;36m8\u001b[0m\u001b[0;34m]\u001b[0m\u001b[0;34m.\u001b[0m\u001b[0mset_color\u001b[0m\u001b[0;34m(\u001b[0m\u001b[0;34m'r'\u001b[0m\u001b[0;34m)\u001b[0m\u001b[0;34m\u001b[0m\u001b[0;34m\u001b[0m\u001b[0m\n\u001b[0;32m---> 10\u001b[0;31m \u001b[0mplt\u001b[0m\u001b[0;34m.\u001b[0m\u001b[0myticks\u001b[0m\u001b[0;34m(\u001b[0m\u001b[0my_pos\u001b[0m\u001b[0;34m,\u001b[0m \u001b[0mlength\u001b[0m\u001b[0;34m)\u001b[0m\u001b[0;34m\u001b[0m\u001b[0;34m\u001b[0m\u001b[0m\n\u001b[0m\u001b[1;32m     11\u001b[0m \u001b[0mplt\u001b[0m\u001b[0;34m.\u001b[0m\u001b[0mxlabel\u001b[0m\u001b[0;34m(\u001b[0m\u001b[0;34m'GDP per Capita (USD)'\u001b[0m\u001b[0;34m)\u001b[0m\u001b[0;34m\u001b[0m\u001b[0;34m\u001b[0m\u001b[0m\n\u001b[1;32m     12\u001b[0m \u001b[0mplt\u001b[0m\u001b[0;34m.\u001b[0m\u001b[0mtitle\u001b[0m\u001b[0;34m(\u001b[0m\u001b[0;34m'GDP per Capita by Country'\u001b[0m\u001b[0;34m)\u001b[0m\u001b[0;34m\u001b[0m\u001b[0;34m\u001b[0m\u001b[0m\n",
      "\u001b[0;31mNameError\u001b[0m: name 'length' is not defined"
     ]
    },
    {
     "data": {
      "image/png": "[encoded data removed]",
      "text/plain": [
       "<Figure size 432x288 with 1 Axes>"
      ]
     },
     "metadata": {
      "needs_background": "light"
     },
     "output_type": "display_data"
    }
   ],
   "source": [
    "ax = plt.gca()\n",
    "for tick in ax.yaxis.get_major_ticks():\n",
    "    tick.label.set_fontsize(6)\n",
    "    \n",
    "y_vals = Top20_Countries\n",
    "y_pos = np.arange(len(y_vals))\n",
    "x_vals = Top20_GDPperCapita\n",
    "barlist = plt.barh(y_pos, x_vals, align='center', alpha=0.75)\n",
    "barlist[8].set_color('r')\n",
    "plt.yticks(y_pos, length)\n",
    "plt.xlabel('GDP per Capita (USD)')\n",
    "plt.title('GDP per Capita by Country')\n",
    "plt.show()  \n"
   ]
  },
  {
   "cell_type": "code",
   "execution_count": null,
   "metadata": {},
   "outputs": [],
   "source": []
  }
 ],
 "metadata": {
  "kernelspec": {
   "display_name": "metis",
   "language": "python",
   "name": "metis"
  },
  "language_info": {
   "codemirror_mode": {
    "name": "ipython",
    "version": 3
   },
   "file_extension": ".py",
   "mimetype": "text/x-python",
   "name": "python",
   "nbconvert_exporter": "python",
   "pygments_lexer": "ipython3",
   "version": "3.6.8"
  }
 },
 "nbformat": 4,
 "nbformat_minor": 2
}
 
